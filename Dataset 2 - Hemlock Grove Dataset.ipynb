{
 "cells": [
  {
   "cell_type": "code",
   "execution_count": 1,
   "id": "8e4c5a60",
   "metadata": {},
   "outputs": [],
   "source": [
    "#Import Libraries\n",
    "\n",
    "import numpy as np\n",
    "import pandas as pd\n",
    "import matplotlib.pyplot as plt\n",
    "import statsmodels.api as sm\n",
    "import matplotlib.dates\n",
    "\n",
    "from datetime import datetime\n",
    "\n",
    "from sklearn.tree import DecisionTreeClassifier\n",
    "from sklearn.linear_model import LinearRegression\n",
    "from sklearn import linear_model\n",
    "from sklearn.datasets import load_iris\n",
    "from sklearn.metrics import mean_absolute_percentage_error\n",
    "from sklearn.metrics import mean_squared_error\n",
    "from sklearn.metrics import r2_score"
   ]
  },
  {
   "cell_type": "code",
   "execution_count": 2,
   "id": "b63818e8",
   "metadata": {
    "scrolled": true
   },
   "outputs": [
    {
     "data": {
      "text/html": [
       "<div>\n",
       "<style scoped>\n",
       "    .dataframe tbody tr th:only-of-type {\n",
       "        vertical-align: middle;\n",
       "    }\n",
       "\n",
       "    .dataframe tbody tr th {\n",
       "        vertical-align: top;\n",
       "    }\n",
       "\n",
       "    .dataframe thead th {\n",
       "        text-align: right;\n",
       "    }\n",
       "</style>\n",
       "<table border=\"1\" class=\"dataframe\">\n",
       "  <thead>\n",
       "    <tr style=\"text-align: right;\">\n",
       "      <th></th>\n",
       "      <th>Unnamed: 0.1</th>\n",
       "      <th>Unnamed: 0</th>\n",
       "      <th>Station</th>\n",
       "      <th>Timestamp</th>\n",
       "      <th>Date</th>\n",
       "      <th>Time</th>\n",
       "      <th>Barometric Pressure (mbar)</th>\n",
       "      <th>Air Temp (°C)</th>\n",
       "      <th>RH (%)</th>\n",
       "      <th>Dew Point (°C)</th>\n",
       "      <th>Rain (mm)</th>\n",
       "      <th>Wind Speed (m/s)</th>\n",
       "      <th>Wind Direction (ø)</th>\n",
       "      <th>Gust Speed (m/s)</th>\n",
       "    </tr>\n",
       "  </thead>\n",
       "  <tbody>\n",
       "    <tr>\n",
       "      <th>0</th>\n",
       "      <td>4681</td>\n",
       "      <td>4681</td>\n",
       "      <td>Hemlock</td>\n",
       "      <td>2015-04-08 12:30:00</td>\n",
       "      <td>2015-04-08</td>\n",
       "      <td>12:30:00</td>\n",
       "      <td>1023.15</td>\n",
       "      <td>4.792</td>\n",
       "      <td>72.8</td>\n",
       "      <td>0.3</td>\n",
       "      <td>0.0</td>\n",
       "      <td>0.00</td>\n",
       "      <td>242.9</td>\n",
       "      <td>0.74</td>\n",
       "    </tr>\n",
       "    <tr>\n",
       "      <th>1</th>\n",
       "      <td>4682</td>\n",
       "      <td>4682</td>\n",
       "      <td>Hemlock</td>\n",
       "      <td>2015-04-08 13:00:00</td>\n",
       "      <td>2015-04-08</td>\n",
       "      <td>13:00:00</td>\n",
       "      <td>1023.05</td>\n",
       "      <td>4.454</td>\n",
       "      <td>76.2</td>\n",
       "      <td>0.6</td>\n",
       "      <td>0.0</td>\n",
       "      <td>0.00</td>\n",
       "      <td>5.6</td>\n",
       "      <td>0.56</td>\n",
       "    </tr>\n",
       "    <tr>\n",
       "      <th>2</th>\n",
       "      <td>4683</td>\n",
       "      <td>4683</td>\n",
       "      <td>Hemlock</td>\n",
       "      <td>2015-04-08 13:30:00</td>\n",
       "      <td>2015-04-08</td>\n",
       "      <td>13:30:00</td>\n",
       "      <td>1022.65</td>\n",
       "      <td>3.985</td>\n",
       "      <td>80.6</td>\n",
       "      <td>1.0</td>\n",
       "      <td>0.0</td>\n",
       "      <td>0.19</td>\n",
       "      <td>33.7</td>\n",
       "      <td>0.74</td>\n",
       "    </tr>\n",
       "    <tr>\n",
       "      <th>3</th>\n",
       "      <td>4684</td>\n",
       "      <td>4684</td>\n",
       "      <td>Hemlock</td>\n",
       "      <td>2015-04-08 14:00:00</td>\n",
       "      <td>2015-04-08</td>\n",
       "      <td>14:00:00</td>\n",
       "      <td>1022.65</td>\n",
       "      <td>3.827</td>\n",
       "      <td>87.6</td>\n",
       "      <td>2.0</td>\n",
       "      <td>0.0</td>\n",
       "      <td>0.00</td>\n",
       "      <td>51.9</td>\n",
       "      <td>0.74</td>\n",
       "    </tr>\n",
       "    <tr>\n",
       "      <th>4</th>\n",
       "      <td>4685</td>\n",
       "      <td>4685</td>\n",
       "      <td>Hemlock</td>\n",
       "      <td>2015-04-08 14:30:00</td>\n",
       "      <td>2015-04-08</td>\n",
       "      <td>14:30:00</td>\n",
       "      <td>1022.35</td>\n",
       "      <td>3.591</td>\n",
       "      <td>89.7</td>\n",
       "      <td>2.1</td>\n",
       "      <td>0.0</td>\n",
       "      <td>0.00</td>\n",
       "      <td>22.5</td>\n",
       "      <td>0.56</td>\n",
       "    </tr>\n",
       "    <tr>\n",
       "      <th>...</th>\n",
       "      <td>...</td>\n",
       "      <td>...</td>\n",
       "      <td>...</td>\n",
       "      <td>...</td>\n",
       "      <td>...</td>\n",
       "      <td>...</td>\n",
       "      <td>...</td>\n",
       "      <td>...</td>\n",
       "      <td>...</td>\n",
       "      <td>...</td>\n",
       "      <td>...</td>\n",
       "      <td>...</td>\n",
       "      <td>...</td>\n",
       "      <td>...</td>\n",
       "    </tr>\n",
       "    <tr>\n",
       "      <th>83237</th>\n",
       "      <td>96977</td>\n",
       "      <td>9329</td>\n",
       "      <td>Hemlock</td>\n",
       "      <td>2020-07-13 08:30:00</td>\n",
       "      <td>2020-07-13</td>\n",
       "      <td>08:30:00</td>\n",
       "      <td>1001.95</td>\n",
       "      <td>23.088</td>\n",
       "      <td>87.8</td>\n",
       "      <td>21.0</td>\n",
       "      <td>0.0</td>\n",
       "      <td>0.00</td>\n",
       "      <td>95.5</td>\n",
       "      <td>0.00</td>\n",
       "    </tr>\n",
       "    <tr>\n",
       "      <th>83238</th>\n",
       "      <td>96978</td>\n",
       "      <td>9330</td>\n",
       "      <td>Hemlock</td>\n",
       "      <td>2020-07-13 09:00:00</td>\n",
       "      <td>2020-07-13</td>\n",
       "      <td>09:00:00</td>\n",
       "      <td>1001.85</td>\n",
       "      <td>23.545</td>\n",
       "      <td>83.8</td>\n",
       "      <td>20.7</td>\n",
       "      <td>0.0</td>\n",
       "      <td>0.00</td>\n",
       "      <td>95.5</td>\n",
       "      <td>0.56</td>\n",
       "    </tr>\n",
       "    <tr>\n",
       "      <th>83239</th>\n",
       "      <td>96979</td>\n",
       "      <td>9331</td>\n",
       "      <td>Hemlock</td>\n",
       "      <td>2020-07-13 09:30:00</td>\n",
       "      <td>2020-07-13</td>\n",
       "      <td>09:30:00</td>\n",
       "      <td>1001.75</td>\n",
       "      <td>24.436</td>\n",
       "      <td>82.3</td>\n",
       "      <td>21.2</td>\n",
       "      <td>0.0</td>\n",
       "      <td>0.00</td>\n",
       "      <td>95.5</td>\n",
       "      <td>0.37</td>\n",
       "    </tr>\n",
       "    <tr>\n",
       "      <th>83240</th>\n",
       "      <td>96980</td>\n",
       "      <td>9332</td>\n",
       "      <td>Hemlock</td>\n",
       "      <td>2020-07-13 10:00:00</td>\n",
       "      <td>2020-07-13</td>\n",
       "      <td>10:00:00</td>\n",
       "      <td>1001.85</td>\n",
       "      <td>25.137</td>\n",
       "      <td>79.2</td>\n",
       "      <td>21.3</td>\n",
       "      <td>0.0</td>\n",
       "      <td>0.00</td>\n",
       "      <td>96.9</td>\n",
       "      <td>0.56</td>\n",
       "    </tr>\n",
       "    <tr>\n",
       "      <th>83241</th>\n",
       "      <td>96981</td>\n",
       "      <td>9333</td>\n",
       "      <td>Hemlock</td>\n",
       "      <td>2020-07-13 10:30:00</td>\n",
       "      <td>2020-07-13</td>\n",
       "      <td>10:30:00</td>\n",
       "      <td>1001.85</td>\n",
       "      <td>25.550</td>\n",
       "      <td>76.6</td>\n",
       "      <td>21.2</td>\n",
       "      <td>0.0</td>\n",
       "      <td>0.00</td>\n",
       "      <td>102.5</td>\n",
       "      <td>0.37</td>\n",
       "    </tr>\n",
       "  </tbody>\n",
       "</table>\n",
       "<p>83242 rows × 14 columns</p>\n",
       "</div>"
      ],
      "text/plain": [
       "       Unnamed: 0.1  Unnamed: 0  Station            Timestamp       Date  \\\n",
       "0              4681        4681  Hemlock  2015-04-08 12:30:00 2015-04-08   \n",
       "1              4682        4682  Hemlock  2015-04-08 13:00:00 2015-04-08   \n",
       "2              4683        4683  Hemlock  2015-04-08 13:30:00 2015-04-08   \n",
       "3              4684        4684  Hemlock  2015-04-08 14:00:00 2015-04-08   \n",
       "4              4685        4685  Hemlock  2015-04-08 14:30:00 2015-04-08   \n",
       "...             ...         ...      ...                  ...        ...   \n",
       "83237         96977        9329  Hemlock  2020-07-13 08:30:00 2020-07-13   \n",
       "83238         96978        9330  Hemlock  2020-07-13 09:00:00 2020-07-13   \n",
       "83239         96979        9331  Hemlock  2020-07-13 09:30:00 2020-07-13   \n",
       "83240         96980        9332  Hemlock  2020-07-13 10:00:00 2020-07-13   \n",
       "83241         96981        9333  Hemlock  2020-07-13 10:30:00 2020-07-13   \n",
       "\n",
       "           Time  Barometric Pressure (mbar)  Air Temp (°C)  RH (%)  \\\n",
       "0      12:30:00                     1023.15          4.792    72.8   \n",
       "1      13:00:00                     1023.05          4.454    76.2   \n",
       "2      13:30:00                     1022.65          3.985    80.6   \n",
       "3      14:00:00                     1022.65          3.827    87.6   \n",
       "4      14:30:00                     1022.35          3.591    89.7   \n",
       "...         ...                         ...            ...     ...   \n",
       "83237  08:30:00                     1001.95         23.088    87.8   \n",
       "83238  09:00:00                     1001.85         23.545    83.8   \n",
       "83239  09:30:00                     1001.75         24.436    82.3   \n",
       "83240  10:00:00                     1001.85         25.137    79.2   \n",
       "83241  10:30:00                     1001.85         25.550    76.6   \n",
       "\n",
       "       Dew Point (°C)  Rain (mm)  Wind Speed (m/s)  Wind Direction (ø)  \\\n",
       "0                 0.3        0.0              0.00               242.9   \n",
       "1                 0.6        0.0              0.00                 5.6   \n",
       "2                 1.0        0.0              0.19                33.7   \n",
       "3                 2.0        0.0              0.00                51.9   \n",
       "4                 2.1        0.0              0.00                22.5   \n",
       "...               ...        ...               ...                 ...   \n",
       "83237            21.0        0.0              0.00                95.5   \n",
       "83238            20.7        0.0              0.00                95.5   \n",
       "83239            21.2        0.0              0.00                95.5   \n",
       "83240            21.3        0.0              0.00                96.9   \n",
       "83241            21.2        0.0              0.00               102.5   \n",
       "\n",
       "       Gust Speed (m/s)  \n",
       "0                  0.74  \n",
       "1                  0.56  \n",
       "2                  0.74  \n",
       "3                  0.74  \n",
       "4                  0.56  \n",
       "...                 ...  \n",
       "83237              0.00  \n",
       "83238              0.56  \n",
       "83239              0.37  \n",
       "83240              0.56  \n",
       "83241              0.37  \n",
       "\n",
       "[83242 rows x 14 columns]"
      ]
     },
     "execution_count": 2,
     "metadata": {},
     "output_type": "execute_result"
    }
   ],
   "source": [
    "#Read xls File and Load to a dataframe\n",
    "\n",
    "df = pd.read_excel('Hclean_weather2015_2020.xlsx')\n",
    "df = df.drop(columns = df.columns[14:])\n",
    "df"
   ]
  },
  {
   "cell_type": "markdown",
   "id": "78c3b786",
   "metadata": {},
   "source": []
  },
  {
   "cell_type": "code",
   "execution_count": 3,
   "id": "8b8ca6f5",
   "metadata": {},
   "outputs": [],
   "source": [
    "#cooerce time stamps to str\n",
    "df['Time'] = df['Time'].astype(str)\n",
    "\n",
    "#df['Barometric Pressure (mbar)'] = df['Barometric Pressure (mbar)'].astype(str)"
   ]
  },
  {
   "cell_type": "code",
   "execution_count": 4,
   "id": "7514a70c",
   "metadata": {
    "scrolled": true
   },
   "outputs": [
    {
     "data": {
      "text/html": [
       "<div>\n",
       "<style scoped>\n",
       "    .dataframe tbody tr th:only-of-type {\n",
       "        vertical-align: middle;\n",
       "    }\n",
       "\n",
       "    .dataframe tbody tr th {\n",
       "        vertical-align: top;\n",
       "    }\n",
       "\n",
       "    .dataframe thead th {\n",
       "        text-align: right;\n",
       "    }\n",
       "</style>\n",
       "<table border=\"1\" class=\"dataframe\">\n",
       "  <thead>\n",
       "    <tr style=\"text-align: right;\">\n",
       "      <th></th>\n",
       "      <th>Unnamed: 0.1</th>\n",
       "      <th>Unnamed: 0</th>\n",
       "      <th>Station</th>\n",
       "      <th>Timestamp</th>\n",
       "      <th>Date</th>\n",
       "      <th>Time</th>\n",
       "      <th>Barometric Pressure (mbar)</th>\n",
       "      <th>Air Temp (°C)</th>\n",
       "      <th>RH (%)</th>\n",
       "      <th>Dew Point (°C)</th>\n",
       "      <th>Rain (mm)</th>\n",
       "      <th>Wind Speed (m/s)</th>\n",
       "      <th>Wind Direction (ø)</th>\n",
       "      <th>Gust Speed (m/s)</th>\n",
       "    </tr>\n",
       "  </thead>\n",
       "  <tbody>\n",
       "    <tr>\n",
       "      <th>12847</th>\n",
       "      <td>20400</td>\n",
       "      <td>2880</td>\n",
       "      <td>Hemlock</td>\n",
       "      <td>2016-03-01 00:00:00</td>\n",
       "      <td>2016-03-01</td>\n",
       "      <td>00:00:00</td>\n",
       "      <td>1002.95</td>\n",
       "      <td>4.454</td>\n",
       "      <td>78.1</td>\n",
       "      <td>1.0</td>\n",
       "      <td>0.0</td>\n",
       "      <td>0.19</td>\n",
       "      <td>220.4</td>\n",
       "      <td>2.04</td>\n",
       "    </tr>\n",
       "    <tr>\n",
       "      <th>12848</th>\n",
       "      <td>20401</td>\n",
       "      <td>2881</td>\n",
       "      <td>Hemlock</td>\n",
       "      <td>2016-03-01 00:30:00</td>\n",
       "      <td>2016-03-01</td>\n",
       "      <td>00:30:00</td>\n",
       "      <td>1003.35</td>\n",
       "      <td>4.973</td>\n",
       "      <td>73.8</td>\n",
       "      <td>0.7</td>\n",
       "      <td>0.0</td>\n",
       "      <td>0.37</td>\n",
       "      <td>196.5</td>\n",
       "      <td>1.11</td>\n",
       "    </tr>\n",
       "    <tr>\n",
       "      <th>12849</th>\n",
       "      <td>20402</td>\n",
       "      <td>2882</td>\n",
       "      <td>Hemlock</td>\n",
       "      <td>2016-03-01 01:00:00</td>\n",
       "      <td>2016-03-01</td>\n",
       "      <td>01:00:00</td>\n",
       "      <td>1004.25</td>\n",
       "      <td>5.128</td>\n",
       "      <td>68.7</td>\n",
       "      <td>-0.1</td>\n",
       "      <td>0.0</td>\n",
       "      <td>0.19</td>\n",
       "      <td>185.3</td>\n",
       "      <td>1.11</td>\n",
       "    </tr>\n",
       "    <tr>\n",
       "      <th>12850</th>\n",
       "      <td>20403</td>\n",
       "      <td>2883</td>\n",
       "      <td>Hemlock</td>\n",
       "      <td>2016-03-01 01:30:00</td>\n",
       "      <td>2016-03-01</td>\n",
       "      <td>01:30:00</td>\n",
       "      <td>1006.35</td>\n",
       "      <td>5.719</td>\n",
       "      <td>62.8</td>\n",
       "      <td>-0.8</td>\n",
       "      <td>0.0</td>\n",
       "      <td>2.04</td>\n",
       "      <td>297.6</td>\n",
       "      <td>6.68</td>\n",
       "    </tr>\n",
       "    <tr>\n",
       "      <th>12851</th>\n",
       "      <td>20404</td>\n",
       "      <td>2884</td>\n",
       "      <td>Hemlock</td>\n",
       "      <td>2016-03-01 02:00:00</td>\n",
       "      <td>2016-03-01</td>\n",
       "      <td>02:00:00</td>\n",
       "      <td>1007.85</td>\n",
       "      <td>3.906</td>\n",
       "      <td>62.2</td>\n",
       "      <td>-2.7</td>\n",
       "      <td>0.0</td>\n",
       "      <td>2.23</td>\n",
       "      <td>275.2</td>\n",
       "      <td>7.24</td>\n",
       "    </tr>\n",
       "    <tr>\n",
       "      <th>...</th>\n",
       "      <td>...</td>\n",
       "      <td>...</td>\n",
       "      <td>...</td>\n",
       "      <td>...</td>\n",
       "      <td>...</td>\n",
       "      <td>...</td>\n",
       "      <td>...</td>\n",
       "      <td>...</td>\n",
       "      <td>...</td>\n",
       "      <td>...</td>\n",
       "      <td>...</td>\n",
       "      <td>...</td>\n",
       "      <td>...</td>\n",
       "      <td>...</td>\n",
       "    </tr>\n",
       "    <tr>\n",
       "      <th>15439</th>\n",
       "      <td>23323</td>\n",
       "      <td>5803</td>\n",
       "      <td>Hemlock</td>\n",
       "      <td>2016-04-30 21:30:00</td>\n",
       "      <td>2016-04-30</td>\n",
       "      <td>21:30:00</td>\n",
       "      <td>1017.55</td>\n",
       "      <td>9.879</td>\n",
       "      <td>60.4</td>\n",
       "      <td>2.6</td>\n",
       "      <td>0.0</td>\n",
       "      <td>0.19</td>\n",
       "      <td>85.6</td>\n",
       "      <td>0.93</td>\n",
       "    </tr>\n",
       "    <tr>\n",
       "      <th>15440</th>\n",
       "      <td>23324</td>\n",
       "      <td>5804</td>\n",
       "      <td>Hemlock</td>\n",
       "      <td>2016-04-30 22:00:00</td>\n",
       "      <td>2016-04-30</td>\n",
       "      <td>22:00:00</td>\n",
       "      <td>1017.75</td>\n",
       "      <td>9.632</td>\n",
       "      <td>61.0</td>\n",
       "      <td>2.5</td>\n",
       "      <td>0.0</td>\n",
       "      <td>0.19</td>\n",
       "      <td>64.6</td>\n",
       "      <td>1.11</td>\n",
       "    </tr>\n",
       "    <tr>\n",
       "      <th>15441</th>\n",
       "      <td>23325</td>\n",
       "      <td>5805</td>\n",
       "      <td>Hemlock</td>\n",
       "      <td>2016-04-30 22:30:00</td>\n",
       "      <td>2016-04-30</td>\n",
       "      <td>22:30:00</td>\n",
       "      <td>1017.85</td>\n",
       "      <td>9.064</td>\n",
       "      <td>60.9</td>\n",
       "      <td>1.9</td>\n",
       "      <td>0.0</td>\n",
       "      <td>0.00</td>\n",
       "      <td>162.9</td>\n",
       "      <td>0.74</td>\n",
       "    </tr>\n",
       "    <tr>\n",
       "      <th>15442</th>\n",
       "      <td>23326</td>\n",
       "      <td>5806</td>\n",
       "      <td>Hemlock</td>\n",
       "      <td>2016-04-30 23:00:00</td>\n",
       "      <td>2016-04-30</td>\n",
       "      <td>23:00:00</td>\n",
       "      <td>1018.05</td>\n",
       "      <td>8.891</td>\n",
       "      <td>61.7</td>\n",
       "      <td>1.9</td>\n",
       "      <td>0.0</td>\n",
       "      <td>0.00</td>\n",
       "      <td>158.6</td>\n",
       "      <td>0.74</td>\n",
       "    </tr>\n",
       "    <tr>\n",
       "      <th>15443</th>\n",
       "      <td>23327</td>\n",
       "      <td>5807</td>\n",
       "      <td>Hemlock</td>\n",
       "      <td>2016-04-30 23:30:00</td>\n",
       "      <td>2016-04-30</td>\n",
       "      <td>23:30:00</td>\n",
       "      <td>1017.95</td>\n",
       "      <td>8.319</td>\n",
       "      <td>63.4</td>\n",
       "      <td>1.8</td>\n",
       "      <td>0.0</td>\n",
       "      <td>0.00</td>\n",
       "      <td>183.9</td>\n",
       "      <td>0.56</td>\n",
       "    </tr>\n",
       "  </tbody>\n",
       "</table>\n",
       "<p>2597 rows × 14 columns</p>\n",
       "</div>"
      ],
      "text/plain": [
       "       Unnamed: 0.1  Unnamed: 0  Station            Timestamp       Date  \\\n",
       "12847         20400        2880  Hemlock  2016-03-01 00:00:00 2016-03-01   \n",
       "12848         20401        2881  Hemlock  2016-03-01 00:30:00 2016-03-01   \n",
       "12849         20402        2882  Hemlock  2016-03-01 01:00:00 2016-03-01   \n",
       "12850         20403        2883  Hemlock  2016-03-01 01:30:00 2016-03-01   \n",
       "12851         20404        2884  Hemlock  2016-03-01 02:00:00 2016-03-01   \n",
       "...             ...         ...      ...                  ...        ...   \n",
       "15439         23323        5803  Hemlock  2016-04-30 21:30:00 2016-04-30   \n",
       "15440         23324        5804  Hemlock  2016-04-30 22:00:00 2016-04-30   \n",
       "15441         23325        5805  Hemlock  2016-04-30 22:30:00 2016-04-30   \n",
       "15442         23326        5806  Hemlock  2016-04-30 23:00:00 2016-04-30   \n",
       "15443         23327        5807  Hemlock  2016-04-30 23:30:00 2016-04-30   \n",
       "\n",
       "           Time  Barometric Pressure (mbar)  Air Temp (°C)  RH (%)  \\\n",
       "12847  00:00:00                     1002.95          4.454    78.1   \n",
       "12848  00:30:00                     1003.35          4.973    73.8   \n",
       "12849  01:00:00                     1004.25          5.128    68.7   \n",
       "12850  01:30:00                     1006.35          5.719    62.8   \n",
       "12851  02:00:00                     1007.85          3.906    62.2   \n",
       "...         ...                         ...            ...     ...   \n",
       "15439  21:30:00                     1017.55          9.879    60.4   \n",
       "15440  22:00:00                     1017.75          9.632    61.0   \n",
       "15441  22:30:00                     1017.85          9.064    60.9   \n",
       "15442  23:00:00                     1018.05          8.891    61.7   \n",
       "15443  23:30:00                     1017.95          8.319    63.4   \n",
       "\n",
       "       Dew Point (°C)  Rain (mm)  Wind Speed (m/s)  Wind Direction (ø)  \\\n",
       "12847             1.0        0.0              0.19               220.4   \n",
       "12848             0.7        0.0              0.37               196.5   \n",
       "12849            -0.1        0.0              0.19               185.3   \n",
       "12850            -0.8        0.0              2.04               297.6   \n",
       "12851            -2.7        0.0              2.23               275.2   \n",
       "...               ...        ...               ...                 ...   \n",
       "15439             2.6        0.0              0.19                85.6   \n",
       "15440             2.5        0.0              0.19                64.6   \n",
       "15441             1.9        0.0              0.00               162.9   \n",
       "15442             1.9        0.0              0.00               158.6   \n",
       "15443             1.8        0.0              0.00               183.9   \n",
       "\n",
       "       Gust Speed (m/s)  \n",
       "12847              2.04  \n",
       "12848              1.11  \n",
       "12849              1.11  \n",
       "12850              6.68  \n",
       "12851              7.24  \n",
       "...                 ...  \n",
       "15439              0.93  \n",
       "15440              1.11  \n",
       "15441              0.74  \n",
       "15442              0.74  \n",
       "15443              0.56  \n",
       "\n",
       "[2597 rows x 14 columns]"
      ]
     },
     "execution_count": 4,
     "metadata": {},
     "output_type": "execute_result"
    }
   ],
   "source": [
    "#Separate years\n",
    "#df2014 = df[df[\"Date\"].isin([d.strftime(\"%Y-%m-%d\") for d in pd.date_range(\"2015-03-01\", \"2015-04-30\")])]\n",
    "df2015 = df[df[\"Date\"].isin([d.strftime(\"%Y-%m-%d\") for d in pd.date_range(\"2015-03-01\", \"2015-04-30\")])]\n",
    "df2016 = df[df[\"Date\"].isin([d.strftime(\"%Y-%m-%d\") for d in pd.date_range(\"2016-03-01\", \"2016-04-30\")])]\n",
    "df2017 = df[df[\"Date\"].isin([d.strftime(\"%Y-%m-%d\") for d in pd.date_range(\"2017-03-01\", \"2017-04-30\")])]\n",
    "df2018 = df[df[\"Date\"].isin([d.strftime(\"%Y-%m-%d\") for d in pd.date_range(\"2018-03-01\", \"2018-04-30\")])]\n",
    "df2019 = df[df[\"Date\"].isin([d.strftime(\"%Y-%m-%d\") for d in pd.date_range(\"2019-03-01\", \"2019-04-30\")])]\n",
    "df2020 = df[df[\"Date\"].isin([d.strftime(\"%Y-%m-%d\") for d in pd.date_range(\"2020-03-01\", \"2020-04-30\")])]\n",
    "df2016"
   ]
  },
  {
   "cell_type": "markdown",
   "id": "0532bf79",
   "metadata": {},
   "source": [
    "### Case 1 - 'Data'"
   ]
  },
  {
   "cell_type": "code",
   "execution_count": 5,
   "id": "8c83bd83",
   "metadata": {
    "scrolled": true
   },
   "outputs": [
    {
     "name": "stdout",
     "output_type": "stream",
     "text": [
      "0.12192301678020234\n",
      "43.654760998891746\n"
     ]
    },
    {
     "data": {
      "text/html": [
       "<div>\n",
       "<style scoped>\n",
       "    .dataframe tbody tr th:only-of-type {\n",
       "        vertical-align: middle;\n",
       "    }\n",
       "\n",
       "    .dataframe tbody tr th {\n",
       "        vertical-align: top;\n",
       "    }\n",
       "\n",
       "    .dataframe thead th {\n",
       "        text-align: right;\n",
       "    }\n",
       "</style>\n",
       "<table border=\"1\" class=\"dataframe\">\n",
       "  <thead>\n",
       "    <tr style=\"text-align: right;\">\n",
       "      <th></th>\n",
       "      <th>Unnamed: 0.1</th>\n",
       "      <th>Unnamed: 0</th>\n",
       "      <th>Station</th>\n",
       "      <th>Timestamp</th>\n",
       "      <th>Date</th>\n",
       "      <th>Time</th>\n",
       "      <th>Barometric Pressure (mbar)</th>\n",
       "      <th>Air Temp (°C)</th>\n",
       "      <th>RH (%)</th>\n",
       "      <th>Dew Point (°C)</th>\n",
       "      <th>Rain (mm)</th>\n",
       "      <th>Wind Speed (m/s)</th>\n",
       "      <th>Wind Direction (ø)</th>\n",
       "      <th>Gust Speed (m/s)</th>\n",
       "    </tr>\n",
       "  </thead>\n",
       "  <tbody>\n",
       "    <tr>\n",
       "      <th>47</th>\n",
       "      <td>4728</td>\n",
       "      <td>4728</td>\n",
       "      <td>Hemlock</td>\n",
       "      <td>2015-04-09 12:00:00</td>\n",
       "      <td>2015-04-09</td>\n",
       "      <td>12:00:00</td>\n",
       "      <td>1021.95</td>\n",
       "      <td>1.859</td>\n",
       "      <td>96.0</td>\n",
       "      <td>1.3</td>\n",
       "      <td>0.25</td>\n",
       "      <td>0.00</td>\n",
       "      <td>51.9</td>\n",
       "      <td>0.56</td>\n",
       "    </tr>\n",
       "    <tr>\n",
       "      <th>95</th>\n",
       "      <td>4776</td>\n",
       "      <td>4776</td>\n",
       "      <td>Hemlock</td>\n",
       "      <td>2015-04-10 12:00:00</td>\n",
       "      <td>2015-04-10</td>\n",
       "      <td>12:00:00</td>\n",
       "      <td>1005.05</td>\n",
       "      <td>5.488</td>\n",
       "      <td>100.0</td>\n",
       "      <td>5.5</td>\n",
       "      <td>0.00</td>\n",
       "      <td>0.19</td>\n",
       "      <td>273.8</td>\n",
       "      <td>0.56</td>\n",
       "    </tr>\n",
       "    <tr>\n",
       "      <th>143</th>\n",
       "      <td>4824</td>\n",
       "      <td>4824</td>\n",
       "      <td>Hemlock</td>\n",
       "      <td>2015-04-11 12:00:00</td>\n",
       "      <td>2015-04-11</td>\n",
       "      <td>12:00:00</td>\n",
       "      <td>1007.15</td>\n",
       "      <td>9.509</td>\n",
       "      <td>52.2</td>\n",
       "      <td>0.2</td>\n",
       "      <td>0.00</td>\n",
       "      <td>2.41</td>\n",
       "      <td>293.4</td>\n",
       "      <td>5.75</td>\n",
       "    </tr>\n",
       "    <tr>\n",
       "      <th>191</th>\n",
       "      <td>4872</td>\n",
       "      <td>4872</td>\n",
       "      <td>Hemlock</td>\n",
       "      <td>2015-04-12 12:00:00</td>\n",
       "      <td>2015-04-12</td>\n",
       "      <td>12:00:00</td>\n",
       "      <td>1018.05</td>\n",
       "      <td>16.034</td>\n",
       "      <td>37.4</td>\n",
       "      <td>1.5</td>\n",
       "      <td>0.00</td>\n",
       "      <td>0.93</td>\n",
       "      <td>266.7</td>\n",
       "      <td>2.60</td>\n",
       "    </tr>\n",
       "    <tr>\n",
       "      <th>239</th>\n",
       "      <td>4920</td>\n",
       "      <td>4920</td>\n",
       "      <td>Hemlock</td>\n",
       "      <td>2015-04-13 12:00:00</td>\n",
       "      <td>2015-04-13</td>\n",
       "      <td>12:00:00</td>\n",
       "      <td>1018.55</td>\n",
       "      <td>18.652</td>\n",
       "      <td>39.7</td>\n",
       "      <td>4.7</td>\n",
       "      <td>0.00</td>\n",
       "      <td>0.93</td>\n",
       "      <td>271.0</td>\n",
       "      <td>2.04</td>\n",
       "    </tr>\n",
       "    <tr>\n",
       "      <th>...</th>\n",
       "      <td>...</td>\n",
       "      <td>...</td>\n",
       "      <td>...</td>\n",
       "      <td>...</td>\n",
       "      <td>...</td>\n",
       "      <td>...</td>\n",
       "      <td>...</td>\n",
       "      <td>...</td>\n",
       "      <td>...</td>\n",
       "      <td>...</td>\n",
       "      <td>...</td>\n",
       "      <td>...</td>\n",
       "      <td>...</td>\n",
       "      <td>...</td>\n",
       "    </tr>\n",
       "    <tr>\n",
       "      <th>49462</th>\n",
       "      <td>58152</td>\n",
       "      <td>5544</td>\n",
       "      <td>Hemlock</td>\n",
       "      <td>2018-04-26 12:00:00</td>\n",
       "      <td>2018-04-26</td>\n",
       "      <td>12:00:00</td>\n",
       "      <td>998.25</td>\n",
       "      <td>15.891</td>\n",
       "      <td>61.5</td>\n",
       "      <td>8.5</td>\n",
       "      <td>0.00</td>\n",
       "      <td>1.48</td>\n",
       "      <td>290.6</td>\n",
       "      <td>3.90</td>\n",
       "    </tr>\n",
       "    <tr>\n",
       "      <th>49510</th>\n",
       "      <td>58200</td>\n",
       "      <td>5592</td>\n",
       "      <td>Hemlock</td>\n",
       "      <td>2018-04-27 12:00:00</td>\n",
       "      <td>2018-04-27</td>\n",
       "      <td>12:00:00</td>\n",
       "      <td>1004.05</td>\n",
       "      <td>12.847</td>\n",
       "      <td>72.1</td>\n",
       "      <td>8.0</td>\n",
       "      <td>0.00</td>\n",
       "      <td>0.19</td>\n",
       "      <td>300.4</td>\n",
       "      <td>0.93</td>\n",
       "    </tr>\n",
       "    <tr>\n",
       "      <th>49558</th>\n",
       "      <td>58248</td>\n",
       "      <td>5640</td>\n",
       "      <td>Hemlock</td>\n",
       "      <td>2018-04-28 12:00:00</td>\n",
       "      <td>2018-04-28</td>\n",
       "      <td>12:00:00</td>\n",
       "      <td>1002.75</td>\n",
       "      <td>18.057</td>\n",
       "      <td>68.6</td>\n",
       "      <td>12.2</td>\n",
       "      <td>0.00</td>\n",
       "      <td>0.56</td>\n",
       "      <td>268.1</td>\n",
       "      <td>2.04</td>\n",
       "    </tr>\n",
       "    <tr>\n",
       "      <th>49606</th>\n",
       "      <td>58296</td>\n",
       "      <td>5688</td>\n",
       "      <td>Hemlock</td>\n",
       "      <td>2018-04-29 12:00:00</td>\n",
       "      <td>2018-04-29</td>\n",
       "      <td>12:00:00</td>\n",
       "      <td>1005.55</td>\n",
       "      <td>7.066</td>\n",
       "      <td>96.4</td>\n",
       "      <td>6.5</td>\n",
       "      <td>0.25</td>\n",
       "      <td>0.56</td>\n",
       "      <td>300.4</td>\n",
       "      <td>1.86</td>\n",
       "    </tr>\n",
       "    <tr>\n",
       "      <th>49654</th>\n",
       "      <td>58344</td>\n",
       "      <td>5736</td>\n",
       "      <td>Hemlock</td>\n",
       "      <td>2018-04-30 12:00:00</td>\n",
       "      <td>2018-04-30</td>\n",
       "      <td>12:00:00</td>\n",
       "      <td>1006.85</td>\n",
       "      <td>8.519</td>\n",
       "      <td>70.0</td>\n",
       "      <td>3.4</td>\n",
       "      <td>0.00</td>\n",
       "      <td>1.11</td>\n",
       "      <td>296.2</td>\n",
       "      <td>2.41</td>\n",
       "    </tr>\n",
       "  </tbody>\n",
       "</table>\n",
       "<p>191 rows × 14 columns</p>\n",
       "</div>"
      ],
      "text/plain": [
       "       Unnamed: 0.1  Unnamed: 0  Station            Timestamp       Date  \\\n",
       "47             4728        4728  Hemlock  2015-04-09 12:00:00 2015-04-09   \n",
       "95             4776        4776  Hemlock  2015-04-10 12:00:00 2015-04-10   \n",
       "143            4824        4824  Hemlock  2015-04-11 12:00:00 2015-04-11   \n",
       "191            4872        4872  Hemlock  2015-04-12 12:00:00 2015-04-12   \n",
       "239            4920        4920  Hemlock  2015-04-13 12:00:00 2015-04-13   \n",
       "...             ...         ...      ...                  ...        ...   \n",
       "49462         58152        5544  Hemlock  2018-04-26 12:00:00 2018-04-26   \n",
       "49510         58200        5592  Hemlock  2018-04-27 12:00:00 2018-04-27   \n",
       "49558         58248        5640  Hemlock  2018-04-28 12:00:00 2018-04-28   \n",
       "49606         58296        5688  Hemlock  2018-04-29 12:00:00 2018-04-29   \n",
       "49654         58344        5736  Hemlock  2018-04-30 12:00:00 2018-04-30   \n",
       "\n",
       "           Time  Barometric Pressure (mbar)  Air Temp (°C)  RH (%)  \\\n",
       "47     12:00:00                     1021.95          1.859    96.0   \n",
       "95     12:00:00                     1005.05          5.488   100.0   \n",
       "143    12:00:00                     1007.15          9.509    52.2   \n",
       "191    12:00:00                     1018.05         16.034    37.4   \n",
       "239    12:00:00                     1018.55         18.652    39.7   \n",
       "...         ...                         ...            ...     ...   \n",
       "49462  12:00:00                      998.25         15.891    61.5   \n",
       "49510  12:00:00                     1004.05         12.847    72.1   \n",
       "49558  12:00:00                     1002.75         18.057    68.6   \n",
       "49606  12:00:00                     1005.55          7.066    96.4   \n",
       "49654  12:00:00                     1006.85          8.519    70.0   \n",
       "\n",
       "       Dew Point (°C)  Rain (mm)  Wind Speed (m/s)  Wind Direction (ø)  \\\n",
       "47                1.3       0.25              0.00                51.9   \n",
       "95                5.5       0.00              0.19               273.8   \n",
       "143               0.2       0.00              2.41               293.4   \n",
       "191               1.5       0.00              0.93               266.7   \n",
       "239               4.7       0.00              0.93               271.0   \n",
       "...               ...        ...               ...                 ...   \n",
       "49462             8.5       0.00              1.48               290.6   \n",
       "49510             8.0       0.00              0.19               300.4   \n",
       "49558            12.2       0.00              0.56               268.1   \n",
       "49606             6.5       0.25              0.56               300.4   \n",
       "49654             3.4       0.00              1.11               296.2   \n",
       "\n",
       "       Gust Speed (m/s)  \n",
       "47                 0.56  \n",
       "95                 0.56  \n",
       "143                5.75  \n",
       "191                2.60  \n",
       "239                2.04  \n",
       "...                 ...  \n",
       "49462              3.90  \n",
       "49510              0.93  \n",
       "49558              2.04  \n",
       "49606              1.86  \n",
       "49654              2.41  \n",
       "\n",
       "[191 rows x 14 columns]"
      ]
     },
     "execution_count": 5,
     "metadata": {},
     "output_type": "execute_result"
    },
    {
     "data": {
      "image/png": "[encoded data removed]",
      "text/plain": [
       "<Figure size 640x480 with 1 Axes>"
      ]
     },
     "metadata": {},
     "output_type": "display_data"
    }
   ],
   "source": [
    "#Separate specific time\n",
    "#df2015_2019 = df[df[\"Date\"].isin([d.strftime(\"%Y-%m-%d\") for d in pd.date_range(\"2015-0-01\", \"2019-12-31\")])]\n",
    "df2015_2018 = pd.concat([df2015,df2016,df2017,df2018])\n",
    "df15_18_noon = df2015_2018[df2015_2018[\"Time\"]== '12:00:00']\n",
    "\n",
    "#change dates to remove year\n",
    "#print(df15_19_noon)\n",
    "\n",
    "#Plot dates by temps for 2015-2018\n",
    "date15_18_noon = df15_18_noon['Date']\n",
    "temp15_18_noon = df15_18_noon['Air Temp (°C)']\n",
    "\n",
    "#print(date15_18_noon)\n",
    "date15_18_noon = date15_18_noon.astype(str)\n",
    "date15_18_noon = date15_18_noon.str.split(\"-\").str[-1].astype(int)\n",
    "\n",
    "date15_18_noon = date15_18_noon.to_numpy().reshape(-1,1)\n",
    "temp15_18_noon = temp15_18_noon.to_numpy().reshape(-1,1)\n",
    "\n",
    "#make the model\n",
    "model = LinearRegression()\n",
    "model.fit(date15_18_noon,temp15_18_noon)\n",
    "temp15_18_noon_pred = model.predict(date15_18_noon)\n",
    "\n",
    "MSE= mean_squared_error(temp15_18_noon, temp15_18_noon_pred)\n",
    "R2= r2_score(temp15_18_noon, temp15_18_noon_pred)\n",
    "\n",
    "print (R2)\n",
    "print (MSE)\n",
    "\n",
    "#draw scatter plot\n",
    "plt.scatter(date15_18_noon,temp15_18_noon, s=2)\n",
    "plt.plot(date15_18_noon, temp15_18_noon_pred, color='red', linewidth=2)\n",
    "plt.xlabel(\"Dates in Spring 2015-2018 at Noon\")\n",
    "plt.ylabel(\"Air Temp (°C)\")\n",
    "df15_18_noon"
   ]
  },
  {
   "cell_type": "code",
   "execution_count": 6,
   "id": "c4f617b1",
   "metadata": {
    "scrolled": true
   },
   "outputs": [
    {
     "name": "stdout",
     "output_type": "stream",
     "text": [
      "0.2619588939788361\n",
      "35.963131268546725\n"
     ]
    },
    {
     "data": {
      "text/plain": [
       "Text(0, 0.5, 'Air Temp (°C)')"
      ]
     },
     "execution_count": 6,
     "metadata": {},
     "output_type": "execute_result"
    },
    {
     "data": {
      "image/png": "[encoded data removed]",
      "text/plain": [
       "<Figure size 640x480 with 1 Axes>"
      ]
     },
     "metadata": {},
     "output_type": "display_data"
    }
   ],
   "source": [
    "##Plot dates by temps for 2019\n",
    "df19 =pd.concat([df2019])\n",
    "df19_noon = df19[df19[\"Time\"]== '12:00:00']\n",
    "date19_noon = df19_noon['Date']\n",
    "temp19_noon = df19_noon['Air Temp (°C)']\n",
    "\n",
    "date19_noon = date19_noon.astype(str)\n",
    "date19_noon = date19_noon.str.split(\"-\").str[-1].astype(int)\n",
    "\n",
    "# convert to 2-D array\n",
    "date19_noon = date19_noon.to_numpy().reshape(-1,1)\n",
    "temp19_noon = temp19_noon.to_numpy().reshape(-1,1)\n",
    "\n",
    "# predict 2020 air temperature at noon\n",
    "temp19_noon_pred = model.predict(date19_noon)\n",
    "\n",
    "MSE= mean_squared_error(temp19_noon, temp19_noon_pred)\n",
    "R2= r2_score(temp19_noon, temp19_noon_pred)\n",
    "\n",
    "print (R2)\n",
    "print (MSE)\n",
    "\n",
    "# draw scatter plot\n",
    "plt.scatter(date19_noon,temp19_noon, s=2)\n",
    "plt.plot(date19_noon, temp19_noon_pred, color='red', linewidth=2)\n",
    "plt.xlabel(\"Dates in spring 2019 at Noon\")\n",
    "plt.ylabel(\"Air Temp (°C)\")\n"
   ]
  },
  {
   "cell_type": "markdown",
   "id": "803e040f",
   "metadata": {},
   "source": [
    "### Case 2 - 'Barometric Pressure (mbar)'"
   ]
  },
  {
   "cell_type": "code",
   "execution_count": 7,
   "id": "f3f3663d",
   "metadata": {
    "scrolled": true
   },
   "outputs": [
    {
     "name": "stdout",
     "output_type": "stream",
     "text": [
      "0.0013983167581744782\n",
      "49.64680620047712\n"
     ]
    },
    {
     "data": {
      "image/png": "[encoded data removed]",
      "text/plain": [
       "<Figure size 640x480 with 1 Axes>"
      ]
     },
     "metadata": {},
     "output_type": "display_data"
    }
   ],
   "source": [
    "# plot linear regression\n",
    "df2015_2018 = pd.concat([df2015,df2016,df2017,df2018])\n",
    "df15_18_noon = df2015_2018[df2015_2018[\"Time\"]== '12:00:00']\n",
    "\n",
    "pressure15_18 = df15_18_noon[['Barometric Pressure (mbar)']]\n",
    "temp15_18_noon = df15_18_noon['Air Temp (°C)']\n",
    "\n",
    "\n",
    "# convert to 2-D array\n",
    "pressure15_18 = pressure15_18.to_numpy().reshape(-1,1)\n",
    "temp15_18_noon = temp15_18_noon.to_numpy().reshape(-1,1)\n",
    "\n",
    "#make the model\n",
    "model = LinearRegression()\n",
    "model.fit(pressure15_18,temp15_18_noon)\n",
    "temp15_18_noon_pred = model.predict(pressure15_18)\n",
    "\n",
    "plt.scatter(pressure15_18,temp15_18_noon, s=2)\n",
    "plt.plot(pressure15_18, temp15_18_noon_pred, color='red', linewidth=2)\n",
    "plt.xlabel(\"Barometric Pressure (mbar) in spring 2015-2017 at Noon\")\n",
    "plt.ylabel(\"Air Temp (°C)\")\n",
    "\n",
    "MSE= mean_squared_error(temp15_18_noon, temp15_18_noon_pred)\n",
    "R2= r2_score(temp15_18_noon, temp15_18_noon_pred)\n",
    "\n",
    "print (R2)\n",
    "print (MSE)"
   ]
  },
  {
   "cell_type": "code",
   "execution_count": 8,
   "id": "221f16e2",
   "metadata": {
    "scrolled": true
   },
   "outputs": [
    {
     "name": "stdout",
     "output_type": "stream",
     "text": [
      "-0.02028646090794517\n",
      "49.7163310089414\n"
     ]
    },
    {
     "data": {
      "text/plain": [
       "(array([ 980.,  990., 1000., 1010., 1020., 1030.]),\n",
       " [Text(0, 0, ''),\n",
       "  Text(0, 0, ''),\n",
       "  Text(0, 0, ''),\n",
       "  Text(0, 0, ''),\n",
       "  Text(0, 0, ''),\n",
       "  Text(0, 0, '')])"
      ]
     },
     "execution_count": 8,
     "metadata": {},
     "output_type": "execute_result"
    },
    {
     "data": {
      "image/png": "[encoded data removed]",
      "text/plain": [
       "<Figure size 640x480 with 1 Axes>"
      ]
     },
     "metadata": {},
     "output_type": "display_data"
    }
   ],
   "source": [
    "#df20_19 =pd.concat([df2019])\n",
    "df2019_noon = df2019[df2019[\"Time\"]== '12:00:00']\n",
    "pre2019_noon = df2019_noon['Barometric Pressure (mbar)']\n",
    "temp2019_noon = df2019_noon['Air Temp (°C)']\n",
    "\n",
    "pre2019_noon = pre2019_noon.to_numpy().reshape(-1,1)\n",
    "temp2019_noon = temp2019_noon.to_numpy().reshape(-1,1)\n",
    "temp2019_noon_pred = model.predict(pre2019_noon)\n",
    "\n",
    "MSE= mean_squared_error(temp2019_noon, temp2019_noon_pred)\n",
    "R2= r2_score(temp2019_noon, temp2019_noon_pred)\n",
    "\n",
    "print (R2)\n",
    "print (MSE)\n",
    "#draw scatter plot\n",
    "plt.scatter(pre2019_noon, temp2019_noon, s = 2)\n",
    "plt.plot(pre2019_noon, temp2019_noon_pred, color='red', linewidth=2)\n",
    "plt.xlabel(\"Barometric Pressure (mbar) in spring 2019 at Noon\")\n",
    "plt.ylabel(\"Air Temp (°C)\")\n",
    "plt.xticks(rotation=45)"
   ]
  },
  {
   "cell_type": "markdown",
   "id": "b5a2f64d",
   "metadata": {},
   "source": [
    "### Case 3 - Gust Speed and air temp\n"
   ]
  },
  {
   "cell_type": "code",
   "execution_count": 9,
   "id": "b6f063d4",
   "metadata": {
    "scrolled": true
   },
   "outputs": [
    {
     "name": "stdout",
     "output_type": "stream",
     "text": [
      "0.011987584488726166\n",
      "49.12034672054016\n"
     ]
    },
    {
     "data": {
      "image/png": "[encoded data removed]",
      "text/plain": [
       "<Figure size 640x480 with 1 Axes>"
      ]
     },
     "metadata": {},
     "output_type": "display_data"
    }
   ],
   "source": [
    "# plot linear regression\n",
    "df2015_2018 = pd.concat([df2015,df2016,df2017,df2018])\n",
    "df15_18_noon = df2015_2018[df2015_2018[\"Time\"]== '12:00:00']\n",
    "\n",
    "gSpeed15_18 = df15_18_noon[['Gust Speed (m/s)']]\n",
    "temp15_18_noon = df15_18_noon['Air Temp (°C)']\n",
    "\n",
    "\n",
    "# convert to 2-D array\n",
    "gSpeed15_18 = gSpeed15_18.to_numpy().reshape(-1,1)\n",
    "temp15_18_noon = temp15_18_noon.to_numpy().reshape(-1,1)\n",
    "\n",
    "#make the model\n",
    "model = LinearRegression()\n",
    "model.fit(gSpeed15_18,temp15_18_noon)\n",
    "temp15_18_noon_pred = model.predict(gSpeed15_18)\n",
    "\n",
    "plt.scatter(gSpeed15_18,temp15_18_noon, s=2)\n",
    "plt.plot(gSpeed15_18, temp15_18_noon_pred, color='red', linewidth=2)\n",
    "plt.xlabel(\"Gust Speed (m/s) in spring 2015-2018 at Noon\")\n",
    "plt.ylabel(\"Air Temp (°C)\")\n",
    "\n",
    "MSE= mean_squared_error(temp15_18_noon, temp15_18_noon_pred)\n",
    "R2= r2_score(temp15_18_noon, temp15_18_noon_pred)\n",
    "\n",
    "print (R2)\n",
    "print (MSE)"
   ]
  },
  {
   "cell_type": "code",
   "execution_count": 10,
   "id": "9b0d8f6f",
   "metadata": {
    "scrolled": true
   },
   "outputs": [
    {
     "name": "stdout",
     "output_type": "stream",
     "text": [
      "0.04256334417658769\n",
      "46.65379726655549\n"
     ]
    },
    {
     "data": {
      "text/plain": [
       "(array([-2.,  0.,  2.,  4.,  6.,  8., 10.]),\n",
       " [Text(0, 0, ''),\n",
       "  Text(0, 0, ''),\n",
       "  Text(0, 0, ''),\n",
       "  Text(0, 0, ''),\n",
       "  Text(0, 0, ''),\n",
       "  Text(0, 0, ''),\n",
       "  Text(0, 0, '')])"
      ]
     },
     "execution_count": 10,
     "metadata": {},
     "output_type": "execute_result"
    },
    {
     "data": {
      "image/png": "[encoded data removed]",
      "text/plain": [
       "<Figure size 640x480 with 1 Axes>"
      ]
     },
     "metadata": {},
     "output_type": "display_data"
    }
   ],
   "source": [
    "#df20_19 =pd.concat([df2019])\n",
    "df2019_noon = df2019[df2019[\"Time\"]== '12:00:00']\n",
    "pre2019_noon = df2019_noon['Gust Speed (m/s)']\n",
    "temp2019_noon = df2019_noon['Air Temp (°C)']\n",
    "\n",
    "pre2019_noon = pre2019_noon.to_numpy().reshape(-1,1)\n",
    "temp2019_noon = temp2019_noon.to_numpy().reshape(-1,1)\n",
    "temp2019_noon_pred = model.predict(pre2019_noon)\n",
    "\n",
    "MSE= mean_squared_error(temp2019_noon, temp2019_noon_pred)\n",
    "R2= r2_score(temp2019_noon, temp2019_noon_pred)\n",
    "\n",
    "print (R2)\n",
    "print (MSE)\n",
    "#draw scatter plot\n",
    "plt.scatter(pre2019_noon, temp2019_noon, s = 2)\n",
    "plt.plot(pre2019_noon, temp2019_noon_pred, color='red', linewidth=2)\n",
    "plt.xlabel(\"Gust Speed (m/s) in spring 2019 at Noon\")\n",
    "plt.ylabel(\"Air Temp (°C)\")\n",
    "plt.xticks(rotation=45)"
   ]
  },
  {
   "cell_type": "markdown",
   "id": "6aad7639",
   "metadata": {},
   "source": [
    "### Case 4 - Barometric Pressure (mbar),Gust Speed (m/s) and Air Temp"
   ]
  },
  {
   "cell_type": "code",
   "execution_count": 11,
   "id": "7a0539ce",
   "metadata": {},
   "outputs": [
    {
     "name": "stdout",
     "output_type": "stream",
     "text": [
      "0.012816546433150444\n",
      "49.079133778790656\n"
     ]
    }
   ],
   "source": [
    "# plot linear regression\n",
    "df2015_2018 = pd.concat([df2015,df2016,df2017,df2018])\n",
    "df15_18_noon = df2015_2018[df2015_2018[\"Time\"]== '12:00:00']\n",
    "\n",
    "pre15_18 = df15_18_noon[['Barometric Pressure (mbar)','Gust Speed (m/s)']]\n",
    "temp15_18_noon = df15_18_noon['Air Temp (°C)']\n",
    "\n",
    "# convert to 2-D array\n",
    "pre15_18 = pre15_18.to_numpy().reshape(-1,2)\n",
    "temp15_18_noon = temp15_18_noon.to_numpy().reshape(-1,1)\n",
    "\n",
    "#make the model\n",
    "model = LinearRegression()\n",
    "model.fit(pre15_18,temp15_18_noon)\n",
    "temp15_18_noon_pred = model.predict(pre15_18)\n",
    "\n",
    "\n",
    "MSE= mean_squared_error(temp15_18_noon, temp15_18_noon_pred)\n",
    "R2= r2_score(temp15_18_noon, temp15_18_noon_pred)\n",
    "\n",
    "print (R2)\n",
    "print (MSE)\n",
    "\n"
   ]
  },
  {
   "cell_type": "code",
   "execution_count": 12,
   "id": "e1feb4f9",
   "metadata": {},
   "outputs": [
    {
     "name": "stdout",
     "output_type": "stream",
     "text": [
      "0.028728099838838395\n",
      "47.32795850797099\n"
     ]
    }
   ],
   "source": [
    "##Plot dates by temps for 2020\n",
    "#df20_19 =pd.concat([df2019])\n",
    "df2019_noon = df2019[df2019[\"Time\"]== '12:00:00']\n",
    "pre2019_noon = df2019_noon[['Barometric Pressure (mbar)','Gust Speed (m/s)']]\n",
    "temp2019_noon = df2019_noon['Air Temp (°C)']\n",
    "\n",
    "# date2020_noon = pre2020_noon.astype(str)\n",
    "# date2020_noon = date2020_noon.str.split(\"-\").str[-1].astype(int)\n",
    "pre2019_noon = pre2019_noon.to_numpy().reshape(-1,2)\n",
    "temp2019_noon = temp2019_noon.to_numpy().reshape(-1,1)\n",
    "temp2019_noon_pred = model.predict(pre2019_noon)\n",
    "\n",
    "MSE= mean_squared_error(temp2019_noon, temp2019_noon_pred)\n",
    "R2= r2_score(temp2019_noon, temp2019_noon_pred)\n",
    "\n",
    "print (R2)\n",
    "print (MSE)\n",
    "#draw scatter plot\n",
    "# plt.scatter(pre2020_noon, temp2020_noon, s = 2)\n",
    "# plt.xlabel(\"Barometric Pressure (mbar) in spring 2020 at Noon\")\n",
    "# plt.ylabel(\"Air Temp (°C)\")\n",
    "# plt.xticks(rotation=45)\n"
   ]
  },
  {
   "cell_type": "markdown",
   "id": "466a7743",
   "metadata": {},
   "source": [
    "### Case 5 - Wind Speed (m/s)"
   ]
  },
  {
   "cell_type": "code",
   "execution_count": 13,
   "id": "4aff4716",
   "metadata": {
    "scrolled": true
   },
   "outputs": [
    {
     "name": "stdout",
     "output_type": "stream",
     "text": [
      "0.0024845810831540804\n",
      "49.592801129857094\n"
     ]
    },
    {
     "data": {
      "image/png": "[encoded data removed]",
      "text/plain": [
       "<Figure size 640x480 with 1 Axes>"
      ]
     },
     "metadata": {},
     "output_type": "display_data"
    }
   ],
   "source": [
    "# plot linear regression\n",
    "df2015_2018 = pd.concat([df2015,df2016,df2017,df2018])\n",
    "df15_18_noon = df2015_2018[df2015_2018[\"Time\"]== '12:00:00']\n",
    "\n",
    "gSpeed15_18 = df15_18_noon[['Wind Speed (m/s)']]\n",
    "temp15_18_noon = df15_18_noon['Air Temp (°C)']\n",
    "\n",
    "\n",
    "# convert to 2-D array\n",
    "gSpeed15_18 = gSpeed15_18.to_numpy().reshape(-1,1)\n",
    "temp15_18_noon = temp15_18_noon.to_numpy().reshape(-1,1)\n",
    "\n",
    "#make the model\n",
    "model = LinearRegression()\n",
    "model.fit(gSpeed15_18,temp15_18_noon)\n",
    "temp15_18_noon_pred = model.predict(gSpeed15_18)\n",
    "\n",
    "plt.scatter(gSpeed15_18,temp15_18_noon, s=2)\n",
    "plt.plot(gSpeed15_18, temp15_18_noon_pred, color='red', linewidth=2)\n",
    "plt.xlabel(\"Gust Speed (m/s) in spring 2015-2018 at Noon\")\n",
    "plt.ylabel(\"Air Temp (°C)\")\n",
    "\n",
    "MSE= mean_squared_error(temp15_18_noon, temp15_18_noon_pred)\n",
    "R2= r2_score(temp15_18_noon, temp15_18_noon_pred)\n",
    "\n",
    "print (R2)\n",
    "print (MSE)"
   ]
  },
  {
   "cell_type": "code",
   "execution_count": 14,
   "id": "f3ec182d",
   "metadata": {
    "scrolled": true
   },
   "outputs": [
    {
     "name": "stdout",
     "output_type": "stream",
     "text": [
      "0.008720429253525008\n",
      "48.30288860030224\n"
     ]
    },
    {
     "data": {
      "text/plain": [
       "(array([-1.,  0.,  1.,  2.,  3.,  4.,  5.,  6.,  7.]),\n",
       " [Text(0, 0, ''),\n",
       "  Text(0, 0, ''),\n",
       "  Text(0, 0, ''),\n",
       "  Text(0, 0, ''),\n",
       "  Text(0, 0, ''),\n",
       "  Text(0, 0, ''),\n",
       "  Text(0, 0, ''),\n",
       "  Text(0, 0, ''),\n",
       "  Text(0, 0, '')])"
      ]
     },
     "execution_count": 14,
     "metadata": {},
     "output_type": "execute_result"
    },
    {
     "data": {
      "image/png": "[encoded data removed]",
      "text/plain": [
       "<Figure size 640x480 with 1 Axes>"
      ]
     },
     "metadata": {},
     "output_type": "display_data"
    }
   ],
   "source": [
    "#df20_19 =pd.concat([df2019])\n",
    "df2019_noon = df2019[df2019[\"Time\"]== '12:00:00']\n",
    "pre2019_noon = df2019_noon['Wind Speed (m/s)']\n",
    "temp2019_noon = df2019_noon['Air Temp (°C)']\n",
    "\n",
    "pre2019_noon = pre2019_noon.to_numpy().reshape(-1,1)\n",
    "temp2019_noon = temp2019_noon.to_numpy().reshape(-1,1)\n",
    "temp2019_noon_pred = model.predict(pre2019_noon)\n",
    "\n",
    "MSE= mean_squared_error(temp2019_noon, temp2019_noon_pred)\n",
    "R2= r2_score(temp2019_noon, temp2019_noon_pred)\n",
    "\n",
    "print (R2)\n",
    "print (MSE)\n",
    "#draw scatter plot\n",
    "plt.scatter(pre2019_noon, temp2019_noon, s = 2)\n",
    "plt.plot(pre2019_noon, temp2019_noon_pred, color='red', linewidth=2)\n",
    "plt.xlabel(\"Gust Speed (m/s) in spring 2019 at Noon\")\n",
    "plt.ylabel(\"Air Temp (°C)\")\n",
    "plt.xticks(rotation=45)"
   ]
  },
  {
   "cell_type": "markdown",
   "id": "77558263",
   "metadata": {},
   "source": [
    "### Case 7 - 'Wind Speed (m/s)','Barometric Pressure (mbar)'"
   ]
  },
  {
   "cell_type": "code",
   "execution_count": 15,
   "id": "4d3d4b02",
   "metadata": {},
   "outputs": [
    {
     "name": "stdout",
     "output_type": "stream",
     "text": [
      "0.0036225545602645015\n",
      "49.53622527020505\n"
     ]
    }
   ],
   "source": [
    "# plot linear regression\n",
    "df2015_2018 = pd.concat([df2015,df2016,df2017,df2018])\n",
    "df15_18_noon = df2015_2018[df2015_2018[\"Time\"]== '12:00:00']\n",
    "\n",
    "pre15_18 = df15_18_noon[['Barometric Pressure (mbar)','Wind Speed (m/s)']]\n",
    "temp15_18_noon = df15_18_noon['Air Temp (°C)']\n",
    "\n",
    "# convert to 2-D array\n",
    "pre15_18 = pre15_18.to_numpy().reshape(-1,2)\n",
    "temp15_18_noon = temp15_18_noon.to_numpy().reshape(-1,1)\n",
    "\n",
    "#make the model\n",
    "model = LinearRegression()\n",
    "model.fit(pre15_18,temp15_18_noon)\n",
    "temp15_18_noon_pred = model.predict(pre15_18)\n",
    "\n",
    "\n",
    "MSE= mean_squared_error(temp15_18_noon, temp15_18_noon_pred)\n",
    "R2= r2_score(temp15_18_noon, temp15_18_noon_pred)\n",
    "\n",
    "print (R2)\n",
    "print (MSE)\n"
   ]
  },
  {
   "cell_type": "code",
   "execution_count": 16,
   "id": "ac06f254",
   "metadata": {},
   "outputs": [
    {
     "name": "stdout",
     "output_type": "stream",
     "text": [
      "-0.006730851915847769\n",
      "49.055795787216354\n"
     ]
    }
   ],
   "source": [
    "##Plot dates by temps for 2020\n",
    "#df20_19 =pd.concat([df2019])\n",
    "df2019_noon = df2019[df2019[\"Time\"]== '12:00:00']\n",
    "pre2019_noon = df2019_noon[['Barometric Pressure (mbar)','Wind Speed (m/s)']]\n",
    "temp2019_noon = df2019_noon['Air Temp (°C)']\n",
    "\n",
    "# date2020_noon = pre2020_noon.astype(str)\n",
    "# date2020_noon = date2020_noon.str.split(\"-\").str[-1].astype(int)\n",
    "pre2019_noon = pre2019_noon.to_numpy().reshape(-1,2)\n",
    "temp2019_noon = temp2019_noon.to_numpy().reshape(-1,1)\n",
    "temp2019_noon_pred = model.predict(pre2019_noon)\n",
    "\n",
    "MSE= mean_squared_error(temp2019_noon, temp2019_noon_pred)\n",
    "R2= r2_score(temp2019_noon, temp2019_noon_pred)\n",
    "\n",
    "print (R2)\n",
    "print (MSE)"
   ]
  },
  {
   "cell_type": "markdown",
   "id": "a1b4d71a",
   "metadata": {},
   "source": [
    "### Case 8\n",
    "##### x: 'Barometric Pressure (mbar)','Gust Speed (m/s)','Wind Speed (m/s)'\\n\n",
    "##### y: 'Air Temp (°C)'"
   ]
  },
  {
   "cell_type": "code",
   "execution_count": 17,
   "id": "4280fdf9",
   "metadata": {},
   "outputs": [
    {
     "name": "stdout",
     "output_type": "stream",
     "text": [
      "0.039528377222691646\n",
      "47.75111970799208\n"
     ]
    }
   ],
   "source": [
    "# plot linear regression\n",
    "df2015_2018 = pd.concat([df2015,df2016,df2017,df2018])\n",
    "df15_18_noon = df2015_2018[df2015_2018[\"Time\"]== '12:00:00']\n",
    "\n",
    "pre15_18 = df15_18_noon[['Barometric Pressure (mbar)','Gust Speed (m/s)','Wind Speed (m/s)']]\n",
    "temp15_18_noon = df15_18_noon['Air Temp (°C)']\n",
    "\n",
    "# convert to 2-D array\n",
    "pre15_18 = pre15_18.to_numpy().reshape(-1,3)\n",
    "temp15_18_noon = temp15_18_noon.to_numpy().reshape(-1,1)\n",
    "\n",
    "#make the model\n",
    "model = LinearRegression()\n",
    "model.fit(pre15_18,temp15_18_noon)\n",
    "temp15_18_noon_pred = model.predict(pre15_18)\n",
    "\n",
    "\n",
    "MSE= mean_squared_error(temp15_18_noon, temp15_18_noon_pred)\n",
    "R2= r2_score(temp15_18_noon, temp15_18_noon_pred)\n",
    "\n",
    "print (R2)\n",
    "print (MSE)\n"
   ]
  },
  {
   "cell_type": "code",
   "execution_count": 18,
   "id": "d8809f44",
   "metadata": {},
   "outputs": [
    {
     "name": "stdout",
     "output_type": "stream",
     "text": [
      "0.009983804987547251\n",
      "48.241327059903654\n"
     ]
    }
   ],
   "source": [
    "##Plot dates by temps for 2020\n",
    "#df20_19 =pd.concat([df2019])\n",
    "df2019_noon = df2019[df2019[\"Time\"]== '12:00:00']\n",
    "pre2019_noon = df2019_noon[['Barometric Pressure (mbar)','Gust Speed (m/s)','Wind Speed (m/s)']]\n",
    "temp2019_noon = df2019_noon['Air Temp (°C)']\n",
    "\n",
    "# date2020_noon = pre2020_noon.astype(str)\n",
    "# date2020_noon = date2020_noon.str.split(\"-\").str[-1].astype(int)\n",
    "pre2019_noon = pre2019_noon.to_numpy().reshape(-1,3)\n",
    "temp2019_noon = temp2019_noon.to_numpy().reshape(-1,1)\n",
    "temp2019_noon_pred = model.predict(pre2019_noon)\n",
    "\n",
    "MSE= mean_squared_error(temp2019_noon, temp2019_noon_pred)\n",
    "R2= r2_score(temp2019_noon, temp2019_noon_pred)\n",
    "\n",
    "print (R2)\n",
    "print (MSE)"
   ]
  },
  {
   "cell_type": "markdown",
   "id": "41687799",
   "metadata": {},
   "source": [
    "### Case 6\n",
    "##### x: 'RH (%)'\n",
    "##### y: 'Air Temp (°C)'"
   ]
  },
  {
   "cell_type": "code",
   "execution_count": 19,
   "id": "85be507d",
   "metadata": {},
   "outputs": [
    {
     "name": "stdout",
     "output_type": "stream",
     "text": [
      "0.04587081900723222\n",
      "47.43579680858271\n"
     ]
    }
   ],
   "source": [
    "# plot linear regression\n",
    "df2015_2018 = pd.concat([df2015,df2016,df2017,df2018])\n",
    "df15_18_noon = df2015_2018[df2015_2018[\"Time\"]== '12:00:00']\n",
    "\n",
    "pre15_18 = df15_18_noon['RH (%)']\n",
    "temp15_18_noon = df15_18_noon['Air Temp (°C)']\n",
    "\n",
    "# convert to 2-D array\n",
    "pre15_18 = pre15_18.to_numpy().reshape(-1,1)\n",
    "temp15_18_noon = temp15_18_noon.to_numpy().reshape(-1,1)\n",
    "\n",
    "#make the model\n",
    "model = LinearRegression()\n",
    "model.fit(pre15_18,temp15_18_noon)\n",
    "temp15_18_noon_pred = model.predict(pre15_18)\n",
    "\n",
    "\n",
    "MSE= mean_squared_error(temp15_18_noon, temp15_18_noon_pred)\n",
    "R2= r2_score(temp15_18_noon, temp15_18_noon_pred)\n",
    "\n",
    "print (R2)\n",
    "print (MSE)\n"
   ]
  },
  {
   "cell_type": "code",
   "execution_count": 26,
   "id": "f6ff2ff9",
   "metadata": {
    "scrolled": true
   },
   "outputs": [
    {
     "name": "stdout",
     "output_type": "stream",
     "text": [
      "-32.953421600571495\n",
      "1654.4760828032354\n"
     ]
    },
    {
     "data": {
      "text/plain": [
       "(array([ 10.,  20.,  30.,  40.,  50.,  60.,  70.,  80.,  90., 100., 110.]),\n",
       " [Text(0, 0, ''),\n",
       "  Text(0, 0, ''),\n",
       "  Text(0, 0, ''),\n",
       "  Text(0, 0, ''),\n",
       "  Text(0, 0, ''),\n",
       "  Text(0, 0, ''),\n",
       "  Text(0, 0, ''),\n",
       "  Text(0, 0, ''),\n",
       "  Text(0, 0, ''),\n",
       "  Text(0, 0, ''),\n",
       "  Text(0, 0, '')])"
      ]
     },
     "execution_count": 26,
     "metadata": {},
     "output_type": "execute_result"
    },
    {
     "data": {
      "image/png": "[encoded data removed]",
      "text/plain": [
       "<Figure size 640x480 with 1 Axes>"
      ]
     },
     "metadata": {},
     "output_type": "display_data"
    }
   ],
   "source": [
    "##Plot dates by temps for 2020\n",
    "df20_19 =pd.concat([df2019])\n",
    "df2019_noon = df20_19[df20_19[\"Time\"]== '12:00:00']\n",
    "pre2019_noon = df2019_noon['RH (%)']\n",
    "temp2019_noon = df2019_noon['Air Temp (°C)']\n",
    "\n",
    "# date2020_noon = pre2020_noon.astype(str)\n",
    "# date2020_noon = date2020_noon.str.split(\"-\").str[-1].astype(int)\n",
    "pre2019_noon = pre2019_noon.to_numpy().reshape(-1,1)\n",
    "temp2019_noon = temp2019_noon.to_numpy().reshape(-1,1)\n",
    "temp2019_noon_pred = model.predict(pre2019_noon)\n",
    "\n",
    "MSE= mean_squared_error(temp2019_noon, temp2019_noon_pred)\n",
    "R2= r2_score(temp2019_noon, temp2019_noon_pred)\n",
    "\n",
    "print (R2)\n",
    "print (MSE)\n",
    "\n",
    "plt.scatter(pre2019_noon, temp2019_noon, s = 2)\n",
    "plt.plot(pre2019_noon, temp2019_noon_pred, color='red', linewidth=2)\n",
    "plt.xlabel(\"Dates in spring 2019 at Noon\")\n",
    "plt.ylabel(\"Air Temp (°C)\")\n",
    "plt.xticks(rotation=45)"
   ]
  },
  {
   "cell_type": "markdown",
   "id": "3dd5ae62",
   "metadata": {},
   "source": [
    "### Case 7 -Dew Point (°C)"
   ]
  },
  {
   "cell_type": "code",
   "execution_count": 27,
   "id": "0af7879f",
   "metadata": {
    "scrolled": true
   },
   "outputs": [
    {
     "name": "stdout",
     "output_type": "stream",
     "text": [
      "0.4581635281584676\n",
      "26.93811833216439\n"
     ]
    },
    {
     "data": {
      "text/plain": [
       "[<matplotlib.lines.Line2D at 0x7f9b0114ed60>]"
      ]
     },
     "execution_count": 27,
     "metadata": {},
     "output_type": "execute_result"
    },
    {
     "data": {
      "image/png": "[encoded data removed]",
      "text/plain": [
       "<Figure size 640x480 with 1 Axes>"
      ]
     },
     "metadata": {},
     "output_type": "display_data"
    }
   ],
   "source": [
    "# plot linear regression\n",
    "df2015_2018 = pd.concat([df2015,df2016,df2017,df2018])\n",
    "df15_18_noon = df2015_2018[df2015_2018[\"Time\"]== '12:00:00']\n",
    "\n",
    "dp15_18 = df15_18_noon['Dew Point (°C)']\n",
    "temp15_18_noon = df15_18_noon['Air Temp (°C)']\n",
    "\n",
    "# convert to 2-D array\n",
    "dp15_18 = dp15_18.to_numpy().reshape(-1,1)\n",
    "temp15_18_noon = temp15_18_noon.to_numpy().reshape(-1,1)\n",
    "\n",
    "#make the model\n",
    "model = LinearRegression()\n",
    "model.fit(dp15_18,temp15_18_noon)\n",
    "temp15_18_noon_pred = model.predict(dp15_18)\n",
    "\n",
    "\n",
    "MSE= mean_squared_error(temp15_18_noon, temp15_18_noon_pred)\n",
    "R2= r2_score(temp15_18_noon, temp15_18_noon_pred)\n",
    "\n",
    "print (R2)\n",
    "print (MSE)\n",
    "\n",
    "plt.scatter(dp15_18, temp15_18_noon, s = 2)\n",
    "plt.plot(dp15_18, temp15_18_noon_pred, color='red', linewidth=2)"
   ]
  },
  {
   "cell_type": "code",
   "execution_count": 29,
   "id": "c0e7ed66",
   "metadata": {
    "scrolled": true
   },
   "outputs": [
    {
     "name": "stdout",
     "output_type": "stream",
     "text": [
      "0.6681283315745108\n",
      "16.17138161889215\n"
     ]
    },
    {
     "data": {
      "text/plain": [
       "(array([-20., -15., -10.,  -5.,   0.,   5.,  10.,  15.,  20.,  25.]),\n",
       " [Text(0, 0, ''),\n",
       "  Text(0, 0, ''),\n",
       "  Text(0, 0, ''),\n",
       "  Text(0, 0, ''),\n",
       "  Text(0, 0, ''),\n",
       "  Text(0, 0, ''),\n",
       "  Text(0, 0, ''),\n",
       "  Text(0, 0, ''),\n",
       "  Text(0, 0, ''),\n",
       "  Text(0, 0, '')])"
      ]
     },
     "execution_count": 29,
     "metadata": {},
     "output_type": "execute_result"
    },
    {
     "data": {
      "image/png": "[encoded data removed]",
      "text/plain": [
       "<Figure size 640x480 with 1 Axes>"
      ]
     },
     "metadata": {},
     "output_type": "display_data"
    }
   ],
   "source": [
    "##Plot dates by temps for 2020\n",
    "df20_19 =pd.concat([df2019])\n",
    "df2019_noon = df20_19[df20_19[\"Time\"]== '12:00:00']\n",
    "dp2019_noon = df2019_noon['Dew Point (°C)']\n",
    "temp2019_noon = df2019_noon['Air Temp (°C)']\n",
    "\n",
    "# date2020_noon = pre2020_noon.astype(str)\n",
    "# date2020_noon = date2020_noon.str.split(\"-\").str[-1].astype(int)\n",
    "dp2019_noon = dp2019_noon.to_numpy().reshape(-1,1)\n",
    "temp2019_noon = temp2019_noon.to_numpy().reshape(-1,1)\n",
    "temp2019_noon_pred = model.predict(dp2019_noon)\n",
    "\n",
    "MSE= mean_squared_error(temp2019_noon, temp2019_noon_pred)\n",
    "R2= r2_score(temp2019_noon, temp2019_noon_pred)\n",
    "\n",
    "print (R2)\n",
    "print (MSE)\n",
    "\n",
    "plt.scatter(dp2019_noon, temp2019_noon, s = 2)\n",
    "plt.plot(dp2019_noon, temp2019_noon_pred, color='red', linewidth=2)\n",
    "plt.xlabel(\"Dates in spring 2019 at Noon\")\n",
    "plt.ylabel(\"Air Temp (°C)\")\n",
    "plt.xticks(rotation=45)"
   ]
  },
  {
   "cell_type": "code",
   "execution_count": null,
   "id": "26dc98b1",
   "metadata": {},
   "outputs": [],
   "source": []
  }
 ],
 "metadata": {
  "kernelspec": {
   "display_name": "Python 3 (ipykernel)",
   "language": "python",
   "name": "python3"
  },
  "language_info": {
   "codemirror_mode": {
    "name": "ipython",
    "version": 3
   },
   "file_extension": ".py",
   "mimetype": "text/x-python",
   "name": "python",
   "nbconvert_exporter": "python",
   "pygments_lexer": "ipython3",
   "version": "3.9.13"
  }
 },
 "nbformat": 4,
 "nbformat_minor": 5
}
