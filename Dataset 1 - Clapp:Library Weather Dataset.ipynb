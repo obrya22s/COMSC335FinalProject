{
 "cells": [
  {
   "cell_type": "code",
   "execution_count": 2,
   "id": "8e4c5a60",
   "metadata": {},
   "outputs": [],
   "source": [
    "#Import Libraries\n",
    "\n",
    "import numpy as np\n",
    "import pandas as pd\n",
    "import matplotlib.pyplot as plt\n",
    "import statsmodels.api as sm\n",
    "import matplotlib.dates\n",
    "\n",
    "from datetime import datetime\n",
    "\n",
    "from sklearn.tree import DecisionTreeClassifier\n",
    "from sklearn.linear_model import LinearRegression\n",
    "from sklearn import linear_model\n",
    "from sklearn.datasets import load_iris\n",
    "from sklearn.metrics import mean_absolute_percentage_error\n",
    "from sklearn.metrics import mean_squared_error\n",
    "from sklearn.metrics import r2_score"
   ]
  },
  {
   "cell_type": "code",
   "execution_count": 3,
   "id": "b63818e8",
   "metadata": {
    "scrolled": true
   },
   "outputs": [
    {
     "data": {
      "text/html": [
       "<div>\n",
       "<style scoped>\n",
       "    .dataframe tbody tr th:only-of-type {\n",
       "        vertical-align: middle;\n",
       "    }\n",
       "\n",
       "    .dataframe tbody tr th {\n",
       "        vertical-align: top;\n",
       "    }\n",
       "\n",
       "    .dataframe thead th {\n",
       "        text-align: right;\n",
       "    }\n",
       "</style>\n",
       "<table border=\"1\" class=\"dataframe\">\n",
       "  <thead>\n",
       "    <tr style=\"text-align: right;\">\n",
       "      <th></th>\n",
       "      <th>Date</th>\n",
       "      <th>Time</th>\n",
       "      <th>Barometric Pressure (mbar)</th>\n",
       "      <th>Air Temp (°C)</th>\n",
       "      <th>RH (%)</th>\n",
       "      <th>Dew Point (°C)</th>\n",
       "      <th>Rain (mm)</th>\n",
       "      <th>Wind Speed (m/s)</th>\n",
       "      <th>Wind Direction (ø)</th>\n",
       "      <th>Gust Speed (m/s)</th>\n",
       "      <th>Solar Radiation (W/m²)</th>\n",
       "    </tr>\n",
       "  </thead>\n",
       "  <tbody>\n",
       "    <tr>\n",
       "      <th>0</th>\n",
       "      <td>2015-01-01</td>\n",
       "      <td>1900-01-01 00:00:00</td>\n",
       "      <td>1024.1</td>\n",
       "      <td>-8.777778</td>\n",
       "      <td>68</td>\n",
       "      <td>-13.611111</td>\n",
       "      <td>0.0</td>\n",
       "      <td>0.00000</td>\n",
       "      <td>157.5</td>\n",
       "      <td>1.78816</td>\n",
       "      <td>0</td>\n",
       "    </tr>\n",
       "    <tr>\n",
       "      <th>1</th>\n",
       "      <td>2015-01-01</td>\n",
       "      <td>1900-01-01 00:30:00</td>\n",
       "      <td>1028.0</td>\n",
       "      <td>-6.555556</td>\n",
       "      <td>49</td>\n",
       "      <td>-15.500000</td>\n",
       "      <td>0.0</td>\n",
       "      <td>2.23520</td>\n",
       "      <td>270.0</td>\n",
       "      <td>8.04672</td>\n",
       "      <td>0</td>\n",
       "    </tr>\n",
       "    <tr>\n",
       "      <th>2</th>\n",
       "      <td>2015-01-01</td>\n",
       "      <td>1900-01-01 01:00:00</td>\n",
       "      <td>1028.2</td>\n",
       "      <td>-6.833333</td>\n",
       "      <td>50</td>\n",
       "      <td>-15.555556</td>\n",
       "      <td>0.0</td>\n",
       "      <td>1.78816</td>\n",
       "      <td>247.5</td>\n",
       "      <td>6.25856</td>\n",
       "      <td>0</td>\n",
       "    </tr>\n",
       "    <tr>\n",
       "      <th>3</th>\n",
       "      <td>2015-01-01</td>\n",
       "      <td>1900-01-01 01:30:00</td>\n",
       "      <td>1029.3</td>\n",
       "      <td>-7.222222</td>\n",
       "      <td>52</td>\n",
       "      <td>-15.444444</td>\n",
       "      <td>0.0</td>\n",
       "      <td>3.12928</td>\n",
       "      <td>225.0</td>\n",
       "      <td>6.70560</td>\n",
       "      <td>0</td>\n",
       "    </tr>\n",
       "    <tr>\n",
       "      <th>4</th>\n",
       "      <td>2015-01-01</td>\n",
       "      <td>1900-01-01 02:00:00</td>\n",
       "      <td>1029.5</td>\n",
       "      <td>-7.000000</td>\n",
       "      <td>53</td>\n",
       "      <td>-15.000000</td>\n",
       "      <td>0.0</td>\n",
       "      <td>4.02336</td>\n",
       "      <td>225.0</td>\n",
       "      <td>7.59968</td>\n",
       "      <td>0</td>\n",
       "    </tr>\n",
       "    <tr>\n",
       "      <th>...</th>\n",
       "      <td>...</td>\n",
       "      <td>...</td>\n",
       "      <td>...</td>\n",
       "      <td>...</td>\n",
       "      <td>...</td>\n",
       "      <td>...</td>\n",
       "      <td>...</td>\n",
       "      <td>...</td>\n",
       "      <td>...</td>\n",
       "      <td>...</td>\n",
       "      <td>...</td>\n",
       "    </tr>\n",
       "    <tr>\n",
       "      <th>84849</th>\n",
       "      <td>2020-07-13</td>\n",
       "      <td>1900-01-01 08:30:00</td>\n",
       "      <td>1011.1</td>\n",
       "      <td>23.222222</td>\n",
       "      <td>84</td>\n",
       "      <td>20.388889</td>\n",
       "      <td>0.0</td>\n",
       "      <td>0.44704</td>\n",
       "      <td>135.0</td>\n",
       "      <td>1.78816</td>\n",
       "      <td>272</td>\n",
       "    </tr>\n",
       "    <tr>\n",
       "      <th>84850</th>\n",
       "      <td>2020-07-13</td>\n",
       "      <td>1900-01-01 09:00:00</td>\n",
       "      <td>1011.0</td>\n",
       "      <td>24.611111</td>\n",
       "      <td>76</td>\n",
       "      <td>20.111111</td>\n",
       "      <td>0.0</td>\n",
       "      <td>0.00000</td>\n",
       "      <td>135.0</td>\n",
       "      <td>1.34112</td>\n",
       "      <td>452</td>\n",
       "    </tr>\n",
       "    <tr>\n",
       "      <th>84851</th>\n",
       "      <td>2020-07-13</td>\n",
       "      <td>1900-01-01 09:30:00</td>\n",
       "      <td>1011.1</td>\n",
       "      <td>24.888889</td>\n",
       "      <td>74</td>\n",
       "      <td>19.944444</td>\n",
       "      <td>0.0</td>\n",
       "      <td>0.44704</td>\n",
       "      <td>135.0</td>\n",
       "      <td>2.23520</td>\n",
       "      <td>497</td>\n",
       "    </tr>\n",
       "    <tr>\n",
       "      <th>84852</th>\n",
       "      <td>2020-07-13</td>\n",
       "      <td>1900-01-01 10:00:00</td>\n",
       "      <td>1011.0</td>\n",
       "      <td>26.444444</td>\n",
       "      <td>70</td>\n",
       "      <td>20.555556</td>\n",
       "      <td>0.0</td>\n",
       "      <td>0.00000</td>\n",
       "      <td>202.5</td>\n",
       "      <td>1.34112</td>\n",
       "      <td>640</td>\n",
       "    </tr>\n",
       "    <tr>\n",
       "      <th>84853</th>\n",
       "      <td>2020-07-13</td>\n",
       "      <td>1900-01-01 10:30:00</td>\n",
       "      <td>1011.0</td>\n",
       "      <td>27.055556</td>\n",
       "      <td>66</td>\n",
       "      <td>20.166667</td>\n",
       "      <td>0.0</td>\n",
       "      <td>0.44704</td>\n",
       "      <td>202.5</td>\n",
       "      <td>2.23520</td>\n",
       "      <td>768</td>\n",
       "    </tr>\n",
       "  </tbody>\n",
       "</table>\n",
       "<p>84854 rows × 11 columns</p>\n",
       "</div>"
      ],
      "text/plain": [
       "            Date                Time  Barometric Pressure (mbar)  \\\n",
       "0     2015-01-01 1900-01-01 00:00:00                      1024.1   \n",
       "1     2015-01-01 1900-01-01 00:30:00                      1028.0   \n",
       "2     2015-01-01 1900-01-01 01:00:00                      1028.2   \n",
       "3     2015-01-01 1900-01-01 01:30:00                      1029.3   \n",
       "4     2015-01-01 1900-01-01 02:00:00                      1029.5   \n",
       "...          ...                 ...                         ...   \n",
       "84849 2020-07-13 1900-01-01 08:30:00                      1011.1   \n",
       "84850 2020-07-13 1900-01-01 09:00:00                      1011.0   \n",
       "84851 2020-07-13 1900-01-01 09:30:00                      1011.1   \n",
       "84852 2020-07-13 1900-01-01 10:00:00                      1011.0   \n",
       "84853 2020-07-13 1900-01-01 10:30:00                      1011.0   \n",
       "\n",
       "       Air Temp (°C)  RH (%)  Dew Point (°C)  Rain (mm)  Wind Speed (m/s)  \\\n",
       "0          -8.777778      68      -13.611111        0.0           0.00000   \n",
       "1          -6.555556      49      -15.500000        0.0           2.23520   \n",
       "2          -6.833333      50      -15.555556        0.0           1.78816   \n",
       "3          -7.222222      52      -15.444444        0.0           3.12928   \n",
       "4          -7.000000      53      -15.000000        0.0           4.02336   \n",
       "...              ...     ...             ...        ...               ...   \n",
       "84849      23.222222      84       20.388889        0.0           0.44704   \n",
       "84850      24.611111      76       20.111111        0.0           0.00000   \n",
       "84851      24.888889      74       19.944444        0.0           0.44704   \n",
       "84852      26.444444      70       20.555556        0.0           0.00000   \n",
       "84853      27.055556      66       20.166667        0.0           0.44704   \n",
       "\n",
       "       Wind Direction (ø)  Gust Speed (m/s)  Solar Radiation (W/m²)  \n",
       "0                   157.5           1.78816                       0  \n",
       "1                   270.0           8.04672                       0  \n",
       "2                   247.5           6.25856                       0  \n",
       "3                   225.0           6.70560                       0  \n",
       "4                   225.0           7.59968                       0  \n",
       "...                   ...               ...                     ...  \n",
       "84849               135.0           1.78816                     272  \n",
       "84850               135.0           1.34112                     452  \n",
       "84851               135.0           2.23520                     497  \n",
       "84852               202.5           1.34112                     640  \n",
       "84853               202.5           2.23520                     768  \n",
       "\n",
       "[84854 rows x 11 columns]"
      ]
     },
     "execution_count": 3,
     "metadata": {},
     "output_type": "execute_result"
    }
   ],
   "source": [
    "#Read xls File and Load to a dataframe\n",
    "\n",
    "df = pd.read_excel('weather2015_2019(1).xlsx')\n",
    "#print(df)\n",
    "df = df.drop(columns = df.columns[13:])\n",
    "df = df.drop(columns = df.columns[0:1])\n",
    "df = df.dropna()\n",
    "df"
   ]
  },
  {
   "cell_type": "markdown",
   "id": "78c3b786",
   "metadata": {},
   "source": []
  },
  {
   "cell_type": "code",
   "execution_count": 4,
   "id": "8b8ca6f5",
   "metadata": {},
   "outputs": [],
   "source": [
    "#cooerce time stamps to str\n",
    "df['Time'] = df['Time'].astype(str)\n",
    "\n",
    "#df['Barometric Pressure (mbar)'] = df['Barometric Pressure (mbar)'].astype(str)"
   ]
  },
  {
   "cell_type": "code",
   "execution_count": 5,
   "id": "7514a70c",
   "metadata": {
    "scrolled": true
   },
   "outputs": [
    {
     "data": {
      "text/html": [
       "<div>\n",
       "<style scoped>\n",
       "    .dataframe tbody tr th:only-of-type {\n",
       "        vertical-align: middle;\n",
       "    }\n",
       "\n",
       "    .dataframe tbody tr th {\n",
       "        vertical-align: top;\n",
       "    }\n",
       "\n",
       "    .dataframe thead th {\n",
       "        text-align: right;\n",
       "    }\n",
       "</style>\n",
       "<table border=\"1\" class=\"dataframe\">\n",
       "  <thead>\n",
       "    <tr style=\"text-align: right;\">\n",
       "      <th></th>\n",
       "      <th>Date</th>\n",
       "      <th>Time</th>\n",
       "      <th>Barometric Pressure (mbar)</th>\n",
       "      <th>Air Temp (°C)</th>\n",
       "      <th>RH (%)</th>\n",
       "      <th>Dew Point (°C)</th>\n",
       "      <th>Rain (mm)</th>\n",
       "      <th>Wind Speed (m/s)</th>\n",
       "      <th>Wind Direction (ø)</th>\n",
       "      <th>Gust Speed (m/s)</th>\n",
       "      <th>Solar Radiation (W/m²)</th>\n",
       "    </tr>\n",
       "  </thead>\n",
       "  <tbody>\n",
       "    <tr>\n",
       "      <th>16010</th>\n",
       "      <td>2016-03-01</td>\n",
       "      <td>1900-01-01 00:00:00</td>\n",
       "      <td>1013.6</td>\n",
       "      <td>5.166667</td>\n",
       "      <td>64</td>\n",
       "      <td>-1.111111</td>\n",
       "      <td>0.0</td>\n",
       "      <td>2.68224</td>\n",
       "      <td>180.0</td>\n",
       "      <td>7.15264</td>\n",
       "      <td>0</td>\n",
       "    </tr>\n",
       "    <tr>\n",
       "      <th>16011</th>\n",
       "      <td>2016-03-01</td>\n",
       "      <td>1900-01-01 00:30:00</td>\n",
       "      <td>1014.4</td>\n",
       "      <td>5.722222</td>\n",
       "      <td>60</td>\n",
       "      <td>-1.444444</td>\n",
       "      <td>0.0</td>\n",
       "      <td>2.23520</td>\n",
       "      <td>180.0</td>\n",
       "      <td>8.04672</td>\n",
       "      <td>0</td>\n",
       "    </tr>\n",
       "    <tr>\n",
       "      <th>16012</th>\n",
       "      <td>2016-03-01</td>\n",
       "      <td>1900-01-01 01:00:00</td>\n",
       "      <td>1016.6</td>\n",
       "      <td>5.888889</td>\n",
       "      <td>60</td>\n",
       "      <td>-1.277778</td>\n",
       "      <td>0.0</td>\n",
       "      <td>4.91744</td>\n",
       "      <td>270.0</td>\n",
       "      <td>14.75232</td>\n",
       "      <td>0</td>\n",
       "    </tr>\n",
       "    <tr>\n",
       "      <th>16013</th>\n",
       "      <td>2016-03-01</td>\n",
       "      <td>1900-01-01 01:30:00</td>\n",
       "      <td>1017.9</td>\n",
       "      <td>3.944444</td>\n",
       "      <td>59</td>\n",
       "      <td>-3.333333</td>\n",
       "      <td>0.0</td>\n",
       "      <td>6.25856</td>\n",
       "      <td>270.0</td>\n",
       "      <td>16.54048</td>\n",
       "      <td>0</td>\n",
       "    </tr>\n",
       "    <tr>\n",
       "      <th>16014</th>\n",
       "      <td>2016-03-01</td>\n",
       "      <td>1900-01-01 02:00:00</td>\n",
       "      <td>1018.8</td>\n",
       "      <td>2.666667</td>\n",
       "      <td>59</td>\n",
       "      <td>-4.555556</td>\n",
       "      <td>0.0</td>\n",
       "      <td>6.70560</td>\n",
       "      <td>270.0</td>\n",
       "      <td>17.88160</td>\n",
       "      <td>0</td>\n",
       "    </tr>\n",
       "    <tr>\n",
       "      <th>...</th>\n",
       "      <td>...</td>\n",
       "      <td>...</td>\n",
       "      <td>...</td>\n",
       "      <td>...</td>\n",
       "      <td>...</td>\n",
       "      <td>...</td>\n",
       "      <td>...</td>\n",
       "      <td>...</td>\n",
       "      <td>...</td>\n",
       "      <td>...</td>\n",
       "      <td>...</td>\n",
       "    </tr>\n",
       "    <tr>\n",
       "      <th>18534</th>\n",
       "      <td>2016-04-30</td>\n",
       "      <td>1900-01-01 21:30:00</td>\n",
       "      <td>1027.1</td>\n",
       "      <td>11.166667</td>\n",
       "      <td>55</td>\n",
       "      <td>2.444444</td>\n",
       "      <td>0.0</td>\n",
       "      <td>4.02336</td>\n",
       "      <td>157.5</td>\n",
       "      <td>10.72896</td>\n",
       "      <td>0</td>\n",
       "    </tr>\n",
       "    <tr>\n",
       "      <th>18535</th>\n",
       "      <td>2016-04-30</td>\n",
       "      <td>1900-01-01 22:00:00</td>\n",
       "      <td>1027.2</td>\n",
       "      <td>9.944444</td>\n",
       "      <td>57</td>\n",
       "      <td>1.833333</td>\n",
       "      <td>0.0</td>\n",
       "      <td>5.36448</td>\n",
       "      <td>157.5</td>\n",
       "      <td>9.83488</td>\n",
       "      <td>0</td>\n",
       "    </tr>\n",
       "    <tr>\n",
       "      <th>18536</th>\n",
       "      <td>2016-04-30</td>\n",
       "      <td>1900-01-01 22:30:00</td>\n",
       "      <td>1027.5</td>\n",
       "      <td>9.444444</td>\n",
       "      <td>58</td>\n",
       "      <td>1.611111</td>\n",
       "      <td>0.0</td>\n",
       "      <td>4.02336</td>\n",
       "      <td>157.5</td>\n",
       "      <td>8.49376</td>\n",
       "      <td>0</td>\n",
       "    </tr>\n",
       "    <tr>\n",
       "      <th>18537</th>\n",
       "      <td>2016-04-30</td>\n",
       "      <td>1900-01-01 23:00:00</td>\n",
       "      <td>1027.4</td>\n",
       "      <td>9.055556</td>\n",
       "      <td>58</td>\n",
       "      <td>1.222222</td>\n",
       "      <td>0.0</td>\n",
       "      <td>2.68224</td>\n",
       "      <td>180.0</td>\n",
       "      <td>8.49376</td>\n",
       "      <td>0</td>\n",
       "    </tr>\n",
       "    <tr>\n",
       "      <th>18538</th>\n",
       "      <td>2016-04-30</td>\n",
       "      <td>1900-01-01 23:30:00</td>\n",
       "      <td>1027.8</td>\n",
       "      <td>8.722222</td>\n",
       "      <td>59</td>\n",
       "      <td>1.166667</td>\n",
       "      <td>0.0</td>\n",
       "      <td>3.57632</td>\n",
       "      <td>180.0</td>\n",
       "      <td>7.15264</td>\n",
       "      <td>0</td>\n",
       "    </tr>\n",
       "  </tbody>\n",
       "</table>\n",
       "<p>2529 rows × 11 columns</p>\n",
       "</div>"
      ],
      "text/plain": [
       "            Date                Time  Barometric Pressure (mbar)  \\\n",
       "16010 2016-03-01 1900-01-01 00:00:00                      1013.6   \n",
       "16011 2016-03-01 1900-01-01 00:30:00                      1014.4   \n",
       "16012 2016-03-01 1900-01-01 01:00:00                      1016.6   \n",
       "16013 2016-03-01 1900-01-01 01:30:00                      1017.9   \n",
       "16014 2016-03-01 1900-01-01 02:00:00                      1018.8   \n",
       "...          ...                 ...                         ...   \n",
       "18534 2016-04-30 1900-01-01 21:30:00                      1027.1   \n",
       "18535 2016-04-30 1900-01-01 22:00:00                      1027.2   \n",
       "18536 2016-04-30 1900-01-01 22:30:00                      1027.5   \n",
       "18537 2016-04-30 1900-01-01 23:00:00                      1027.4   \n",
       "18538 2016-04-30 1900-01-01 23:30:00                      1027.8   \n",
       "\n",
       "       Air Temp (°C)  RH (%)  Dew Point (°C)  Rain (mm)  Wind Speed (m/s)  \\\n",
       "16010       5.166667      64       -1.111111        0.0           2.68224   \n",
       "16011       5.722222      60       -1.444444        0.0           2.23520   \n",
       "16012       5.888889      60       -1.277778        0.0           4.91744   \n",
       "16013       3.944444      59       -3.333333        0.0           6.25856   \n",
       "16014       2.666667      59       -4.555556        0.0           6.70560   \n",
       "...              ...     ...             ...        ...               ...   \n",
       "18534      11.166667      55        2.444444        0.0           4.02336   \n",
       "18535       9.944444      57        1.833333        0.0           5.36448   \n",
       "18536       9.444444      58        1.611111        0.0           4.02336   \n",
       "18537       9.055556      58        1.222222        0.0           2.68224   \n",
       "18538       8.722222      59        1.166667        0.0           3.57632   \n",
       "\n",
       "       Wind Direction (ø)  Gust Speed (m/s)  Solar Radiation (W/m²)  \n",
       "16010               180.0           7.15264                       0  \n",
       "16011               180.0           8.04672                       0  \n",
       "16012               270.0          14.75232                       0  \n",
       "16013               270.0          16.54048                       0  \n",
       "16014               270.0          17.88160                       0  \n",
       "...                   ...               ...                     ...  \n",
       "18534               157.5          10.72896                       0  \n",
       "18535               157.5           9.83488                       0  \n",
       "18536               157.5           8.49376                       0  \n",
       "18537               180.0           8.49376                       0  \n",
       "18538               180.0           7.15264                       0  \n",
       "\n",
       "[2529 rows x 11 columns]"
      ]
     },
     "execution_count": 5,
     "metadata": {},
     "output_type": "execute_result"
    }
   ],
   "source": [
    "#Separate years\n",
    "#df2014 = df[df[\"Date\"].isin([d.strftime(\"%Y-%m-%d\") for d in pd.date_range(\"2015-03-01\", \"2015-04-30\")])]\n",
    "df2015 = df[df[\"Date\"].isin([d.strftime(\"%Y-%m-%d\") for d in pd.date_range(\"2015-03-01\", \"2015-04-30\")])]\n",
    "df2016 = df[df[\"Date\"].isin([d.strftime(\"%Y-%m-%d\") for d in pd.date_range(\"2016-03-01\", \"2016-04-30\")])]\n",
    "df2017 = df[df[\"Date\"].isin([d.strftime(\"%Y-%m-%d\") for d in pd.date_range(\"2017-03-01\", \"2017-04-30\")])]\n",
    "df2018 = df[df[\"Date\"].isin([d.strftime(\"%Y-%m-%d\") for d in pd.date_range(\"2018-03-01\", \"2018-04-30\")])]\n",
    "df2019 = df[df[\"Date\"].isin([d.strftime(\"%Y-%m-%d\") for d in pd.date_range(\"2019-03-01\", \"2019-04-30\")])]\n",
    "df2020 = df[df[\"Date\"].isin([d.strftime(\"%Y-%m-%d\") for d in pd.date_range(\"2020-03-01\", \"2020-04-30\")])]\n",
    "df2016"
   ]
  },
  {
   "attachments": {},
   "cell_type": "markdown",
   "id": "0532bf79",
   "metadata": {},
   "source": [
    "### Case 1 - 'Data'"
   ]
  },
  {
   "cell_type": "code",
   "execution_count": 6,
   "id": "8c83bd83",
   "metadata": {},
   "outputs": [
    {
     "ename": "ValueError",
     "evalue": "Found array with 0 sample(s) (shape=(0, 1)) while a minimum of 1 is required by LinearRegression.",
     "output_type": "error",
     "traceback": [
      "\u001b[0;31m---------------------------------------------------------------------------\u001b[0m",
      "\u001b[0;31mValueError\u001b[0m                                Traceback (most recent call last)",
      "Cell \u001b[0;32mIn[6], line 22\u001b[0m\n\u001b[1;32m     20\u001b[0m \u001b[39m#make the model\u001b[39;00m\n\u001b[1;32m     21\u001b[0m model \u001b[39m=\u001b[39m LinearRegression()\n\u001b[0;32m---> 22\u001b[0m model\u001b[39m.\u001b[39;49mfit(date15_19_noon,temp15_19_noon)\n\u001b[1;32m     23\u001b[0m temp15_19_noon_pred \u001b[39m=\u001b[39m model\u001b[39m.\u001b[39mpredict(date15_19_noon)\n\u001b[1;32m     25\u001b[0m MSE\u001b[39m=\u001b[39m mean_squared_error(temp15_19_noon, temp15_19_noon_pred)\n",
      "File \u001b[0;32m~/miniconda3/lib/python3.9/site-packages/sklearn/linear_model/_base.py:648\u001b[0m, in \u001b[0;36mLinearRegression.fit\u001b[0;34m(self, X, y, sample_weight)\u001b[0m\n\u001b[1;32m    644\u001b[0m n_jobs_ \u001b[39m=\u001b[39m \u001b[39mself\u001b[39m\u001b[39m.\u001b[39mn_jobs\n\u001b[1;32m    646\u001b[0m accept_sparse \u001b[39m=\u001b[39m \u001b[39mFalse\u001b[39;00m \u001b[39mif\u001b[39;00m \u001b[39mself\u001b[39m\u001b[39m.\u001b[39mpositive \u001b[39melse\u001b[39;00m [\u001b[39m\"\u001b[39m\u001b[39mcsr\u001b[39m\u001b[39m\"\u001b[39m, \u001b[39m\"\u001b[39m\u001b[39mcsc\u001b[39m\u001b[39m\"\u001b[39m, \u001b[39m\"\u001b[39m\u001b[39mcoo\u001b[39m\u001b[39m\"\u001b[39m]\n\u001b[0;32m--> 648\u001b[0m X, y \u001b[39m=\u001b[39m \u001b[39mself\u001b[39;49m\u001b[39m.\u001b[39;49m_validate_data(\n\u001b[1;32m    649\u001b[0m     X, y, accept_sparse\u001b[39m=\u001b[39;49maccept_sparse, y_numeric\u001b[39m=\u001b[39;49m\u001b[39mTrue\u001b[39;49;00m, multi_output\u001b[39m=\u001b[39;49m\u001b[39mTrue\u001b[39;49;00m\n\u001b[1;32m    650\u001b[0m )\n\u001b[1;32m    652\u001b[0m sample_weight \u001b[39m=\u001b[39m _check_sample_weight(\n\u001b[1;32m    653\u001b[0m     sample_weight, X, dtype\u001b[39m=\u001b[39mX\u001b[39m.\u001b[39mdtype, only_non_negative\u001b[39m=\u001b[39m\u001b[39mTrue\u001b[39;00m\n\u001b[1;32m    654\u001b[0m )\n\u001b[1;32m    656\u001b[0m X, y, X_offset, y_offset, X_scale \u001b[39m=\u001b[39m _preprocess_data(\n\u001b[1;32m    657\u001b[0m     X,\n\u001b[1;32m    658\u001b[0m     y,\n\u001b[0;32m   (...)\u001b[0m\n\u001b[1;32m    661\u001b[0m     sample_weight\u001b[39m=\u001b[39msample_weight,\n\u001b[1;32m    662\u001b[0m )\n",
      "File \u001b[0;32m~/miniconda3/lib/python3.9/site-packages/sklearn/base.py:565\u001b[0m, in \u001b[0;36mBaseEstimator._validate_data\u001b[0;34m(self, X, y, reset, validate_separately, **check_params)\u001b[0m\n\u001b[1;32m    563\u001b[0m         y \u001b[39m=\u001b[39m check_array(y, input_name\u001b[39m=\u001b[39m\u001b[39m\"\u001b[39m\u001b[39my\u001b[39m\u001b[39m\"\u001b[39m, \u001b[39m*\u001b[39m\u001b[39m*\u001b[39mcheck_y_params)\n\u001b[1;32m    564\u001b[0m     \u001b[39melse\u001b[39;00m:\n\u001b[0;32m--> 565\u001b[0m         X, y \u001b[39m=\u001b[39m check_X_y(X, y, \u001b[39m*\u001b[39;49m\u001b[39m*\u001b[39;49mcheck_params)\n\u001b[1;32m    566\u001b[0m     out \u001b[39m=\u001b[39m X, y\n\u001b[1;32m    568\u001b[0m \u001b[39mif\u001b[39;00m \u001b[39mnot\u001b[39;00m no_val_X \u001b[39mand\u001b[39;00m check_params\u001b[39m.\u001b[39mget(\u001b[39m\"\u001b[39m\u001b[39mensure_2d\u001b[39m\u001b[39m\"\u001b[39m, \u001b[39mTrue\u001b[39;00m):\n",
      "File \u001b[0;32m~/miniconda3/lib/python3.9/site-packages/sklearn/utils/validation.py:1106\u001b[0m, in \u001b[0;36mcheck_X_y\u001b[0;34m(X, y, accept_sparse, accept_large_sparse, dtype, order, copy, force_all_finite, ensure_2d, allow_nd, multi_output, ensure_min_samples, ensure_min_features, y_numeric, estimator)\u001b[0m\n\u001b[1;32m   1101\u001b[0m         estimator_name \u001b[39m=\u001b[39m _check_estimator_name(estimator)\n\u001b[1;32m   1102\u001b[0m     \u001b[39mraise\u001b[39;00m \u001b[39mValueError\u001b[39;00m(\n\u001b[1;32m   1103\u001b[0m         \u001b[39mf\u001b[39m\u001b[39m\"\u001b[39m\u001b[39m{\u001b[39;00mestimator_name\u001b[39m}\u001b[39;00m\u001b[39m requires y to be passed, but the target y is None\u001b[39m\u001b[39m\"\u001b[39m\n\u001b[1;32m   1104\u001b[0m     )\n\u001b[0;32m-> 1106\u001b[0m X \u001b[39m=\u001b[39m check_array(\n\u001b[1;32m   1107\u001b[0m     X,\n\u001b[1;32m   1108\u001b[0m     accept_sparse\u001b[39m=\u001b[39;49maccept_sparse,\n\u001b[1;32m   1109\u001b[0m     accept_large_sparse\u001b[39m=\u001b[39;49maccept_large_sparse,\n\u001b[1;32m   1110\u001b[0m     dtype\u001b[39m=\u001b[39;49mdtype,\n\u001b[1;32m   1111\u001b[0m     order\u001b[39m=\u001b[39;49morder,\n\u001b[1;32m   1112\u001b[0m     copy\u001b[39m=\u001b[39;49mcopy,\n\u001b[1;32m   1113\u001b[0m     force_all_finite\u001b[39m=\u001b[39;49mforce_all_finite,\n\u001b[1;32m   1114\u001b[0m     ensure_2d\u001b[39m=\u001b[39;49mensure_2d,\n\u001b[1;32m   1115\u001b[0m     allow_nd\u001b[39m=\u001b[39;49mallow_nd,\n\u001b[1;32m   1116\u001b[0m     ensure_min_samples\u001b[39m=\u001b[39;49mensure_min_samples,\n\u001b[1;32m   1117\u001b[0m     ensure_min_features\u001b[39m=\u001b[39;49mensure_min_features,\n\u001b[1;32m   1118\u001b[0m     estimator\u001b[39m=\u001b[39;49mestimator,\n\u001b[1;32m   1119\u001b[0m     input_name\u001b[39m=\u001b[39;49m\u001b[39m\"\u001b[39;49m\u001b[39mX\u001b[39;49m\u001b[39m\"\u001b[39;49m,\n\u001b[1;32m   1120\u001b[0m )\n\u001b[1;32m   1122\u001b[0m y \u001b[39m=\u001b[39m _check_y(y, multi_output\u001b[39m=\u001b[39mmulti_output, y_numeric\u001b[39m=\u001b[39my_numeric, estimator\u001b[39m=\u001b[39mestimator)\n\u001b[1;32m   1124\u001b[0m check_consistent_length(X, y)\n",
      "File \u001b[0;32m~/miniconda3/lib/python3.9/site-packages/sklearn/utils/validation.py:931\u001b[0m, in \u001b[0;36mcheck_array\u001b[0;34m(array, accept_sparse, accept_large_sparse, dtype, order, copy, force_all_finite, ensure_2d, allow_nd, ensure_min_samples, ensure_min_features, estimator, input_name)\u001b[0m\n\u001b[1;32m    929\u001b[0m     n_samples \u001b[39m=\u001b[39m _num_samples(array)\n\u001b[1;32m    930\u001b[0m     \u001b[39mif\u001b[39;00m n_samples \u001b[39m<\u001b[39m ensure_min_samples:\n\u001b[0;32m--> 931\u001b[0m         \u001b[39mraise\u001b[39;00m \u001b[39mValueError\u001b[39;00m(\n\u001b[1;32m    932\u001b[0m             \u001b[39m\"\u001b[39m\u001b[39mFound array with \u001b[39m\u001b[39m%d\u001b[39;00m\u001b[39m sample(s) (shape=\u001b[39m\u001b[39m%s\u001b[39;00m\u001b[39m) while a\u001b[39m\u001b[39m\"\u001b[39m\n\u001b[1;32m    933\u001b[0m             \u001b[39m\"\u001b[39m\u001b[39m minimum of \u001b[39m\u001b[39m%d\u001b[39;00m\u001b[39m is required\u001b[39m\u001b[39m%s\u001b[39;00m\u001b[39m.\u001b[39m\u001b[39m\"\u001b[39m\n\u001b[1;32m    934\u001b[0m             \u001b[39m%\u001b[39m (n_samples, array\u001b[39m.\u001b[39mshape, ensure_min_samples, context)\n\u001b[1;32m    935\u001b[0m         )\n\u001b[1;32m    937\u001b[0m \u001b[39mif\u001b[39;00m ensure_min_features \u001b[39m>\u001b[39m \u001b[39m0\u001b[39m \u001b[39mand\u001b[39;00m array\u001b[39m.\u001b[39mndim \u001b[39m==\u001b[39m \u001b[39m2\u001b[39m:\n\u001b[1;32m    938\u001b[0m     n_features \u001b[39m=\u001b[39m array\u001b[39m.\u001b[39mshape[\u001b[39m1\u001b[39m]\n",
      "\u001b[0;31mValueError\u001b[0m: Found array with 0 sample(s) (shape=(0, 1)) while a minimum of 1 is required by LinearRegression."
     ]
    }
   ],
   "source": [
    "#Separate specific time\n",
    "#df2015_2019 = df[df[\"Date\"].isin([d.strftime(\"%Y-%m-%d\") for d in pd.date_range(\"2015-0-01\", \"2019-12-31\")])]\n",
    "df2015_2019 = pd.concat([df2015,df2016,df2017,df2018])\n",
    "df15_19_noon = df2015_2019[df2015_2019[\"Time\"]== '12:00:00']\n",
    "\n",
    "#change dates to remove year\n",
    "#print(df15_19_noon)\n",
    "\n",
    "#Plot dates by temps for 2015\n",
    "date15_19_noon = df15_19_noon['Date']\n",
    "temp15_19_noon = df15_19_noon['Air Temp (°C)']\n",
    "\n",
    "#print(date15_19_noon)\n",
    "date15_19_noon = date15_19_noon.astype(str)\n",
    "date15_19_noon = date15_19_noon.str.split(\"-\").str[-1].astype(int)\n",
    "\n",
    "date15_19_noon = date15_19_noon.to_numpy().reshape(-1,1)\n",
    "temp15_19_noon = temp15_19_noon.to_numpy().reshape(-1,1)\n",
    "\n",
    "#make the model\n",
    "model = LinearRegression()\n",
    "model.fit(date15_19_noon,temp15_19_noon)\n",
    "temp15_19_noon_pred = model.predict(date15_19_noon)\n",
    "\n",
    "MSE= mean_squared_error(temp15_19_noon, temp15_19_noon_pred)\n",
    "R2= r2_score(temp15_19_noon, temp15_19_noon_pred)\n",
    "\n",
    "print (R2)\n",
    "print (MSE)\n",
    "\n",
    "#draw scatter plot\n",
    "plt.scatter(date15_19_noon,temp15_19_noon, s=2)\n",
    "plt.plot(date15_19_noon, temp15_19_noon_pred, color='red', linewidth=2)\n",
    "plt.xlabel(\"Dates in March 2015-2019 at Noon\")\n",
    "plt.ylabel(\"Air Temp (°C)\")\n",
    "df15_19_noon"
   ]
  },
  {
   "cell_type": "code",
   "execution_count": 31,
   "id": "c4f617b1",
   "metadata": {},
   "outputs": [
    {
     "name": "stdout",
     "output_type": "stream",
     "text": [
      "0.1415959609862275\n",
      "31.683961052686\n"
     ]
    },
    {
     "data": {
      "text/plain": [
       "Text(0, 0.5, 'Air Temp (°C)')"
      ]
     },
     "execution_count": 31,
     "metadata": {},
     "output_type": "execute_result"
    },
    {
     "data": {
      "image/png": "[encoded data removed]",
      "text/plain": [
       "<Figure size 640x480 with 1 Axes>"
      ]
     },
     "metadata": {},
     "output_type": "display_data"
    }
   ],
   "source": [
    "##Plot dates by temps for 2020\n",
    "df18_20 =pd.concat([df2019])\n",
    "df18_20_noon = df18_20[df18_20[\"Time\"]== '12:00:00']\n",
    "date18_20_noon = df18_20_noon['Date']\n",
    "temp18_20_noon = df18_20_noon['Air Temp (°C)']\n",
    "\n",
    "date18_20_noon = date18_20_noon.astype(str)\n",
    "date18_20_noon = date18_20_noon.str.split(\"-\").str[-1].astype(int)\n",
    "\n",
    "# convert to 2-D array\n",
    "date18_20_noon = date18_20_noon.to_numpy().reshape(-1,1)\n",
    "temp18_20_noon = temp18_20_noon.to_numpy().reshape(-1,1)\n",
    "\n",
    "# predict 2020 air temperature at noon\n",
    "temp18_20_noon_pred = model.predict(date18_20_noon)\n",
    "\n",
    "MSE= mean_squared_error(temp18_20_noon, temp18_20_noon_pred)\n",
    "R2= r2_score(temp18_20_noon, temp18_20_noon_pred)\n",
    "\n",
    "print (R2)\n",
    "print (MSE)\n",
    "\n",
    "# draw scatter plot\n",
    "plt.scatter(date18_20_noon,temp18_20_noon, s=2)\n",
    "plt.plot(date18_20_noon, temp18_20_noon_pred, color='red', linewidth=2)\n",
    "plt.xlabel(\"Dates in spring from 2018 to 2020 at Noon\")\n",
    "plt.ylabel(\"Air Temp (°C)\")"
   ]
  },
  {
   "attachments": {},
   "cell_type": "markdown",
   "id": "803e040f",
   "metadata": {},
   "source": [
    "### Case 2 - 'Barometric Pressure (mbar)'"
   ]
  },
  {
   "cell_type": "code",
   "execution_count": 32,
   "id": "f3f3663d",
   "metadata": {},
   "outputs": [
    {
     "name": "stdout",
     "output_type": "stream",
     "text": [
      "0.008445640430280066\n",
      "46.31172271074639\n"
     ]
    },
    {
     "data": {
      "image/png": "[encoded data removed]",
      "text/plain": [
       "<Figure size 640x480 with 1 Axes>"
      ]
     },
     "metadata": {},
     "output_type": "display_data"
    }
   ],
   "source": [
    "# plot linear regression\n",
    "df2015_2017 = pd.concat([df2015,df2016,df2017,df2018])\n",
    "df15_17_noon = df2015_2017[df2015_2017[\"Time\"]== '12:00:00']\n",
    "\n",
    "pressure15_17 = df15_17_noon[['Barometric Pressure (mbar)']]\n",
    "temp15_17_noon = df15_17_noon['Air Temp (°C)']\n",
    "\n",
    "\n",
    "# convert to 2-D array\n",
    "pressure15_17 = pressure15_17.to_numpy().reshape(-1,1)\n",
    "temp15_17_noon = temp15_17_noon.to_numpy().reshape(-1,1)\n",
    "\n",
    "#make the model\n",
    "model = LinearRegression()\n",
    "model.fit(pressure15_17,temp15_17_noon)\n",
    "temp15_17_noon_pred = model.predict(pressure15_17)\n",
    "\n",
    "plt.scatter(pressure15_17,temp15_17_noon, s=2)\n",
    "plt.plot(pressure15_17, temp15_17_noon_pred, color='red', linewidth=2)\n",
    "plt.xlabel(\"Barometric Pressure (mbar) in spring 2015-2017 at Noon\")\n",
    "plt.ylabel(\"Air Temp (°C)\")\n",
    "\n",
    "MSE= mean_squared_error(temp15_17_noon, temp15_17_noon_pred)\n",
    "R2= r2_score(temp15_17_noon, temp15_17_noon_pred)\n",
    "\n",
    "print (R2)\n",
    "print (MSE)"
   ]
  },
  {
   "cell_type": "code",
   "execution_count": 33,
   "id": "221f16e2",
   "metadata": {},
   "outputs": [
    {
     "name": "stdout",
     "output_type": "stream",
     "text": [
      "0.04551914859283557\n",
      "35.23018619095053\n"
     ]
    },
    {
     "data": {
      "text/plain": [
       "(array([ 990., 1000., 1010., 1020., 1030., 1040., 1050.]),\n",
       " [Text(990.0, 0, '990'),\n",
       "  Text(1000.0, 0, '1000'),\n",
       "  Text(1010.0, 0, '1010'),\n",
       "  Text(1020.0, 0, '1020'),\n",
       "  Text(1030.0, 0, '1030'),\n",
       "  Text(1040.0, 0, '1040'),\n",
       "  Text(1050.0, 0, '1050')])"
      ]
     },
     "execution_count": 33,
     "metadata": {},
     "output_type": "execute_result"
    },
    {
     "data": {
      "image/png": "[encoded data removed]",
      "text/plain": [
       "<Figure size 640x480 with 1 Axes>"
      ]
     },
     "metadata": {},
     "output_type": "display_data"
    }
   ],
   "source": [
    "df20_19 =pd.concat([df2019])\n",
    "df2020_noon = df20_19[df20_19[\"Time\"]== '12:00:00']\n",
    "pre2020_noon = df2020_noon['Barometric Pressure (mbar)']\n",
    "temp2020_noon = df2020_noon['Air Temp (°C)']\n",
    "\n",
    "pre2020_noon = pre2020_noon.to_numpy().reshape(-1,1)\n",
    "temp2020_noon = temp2020_noon.to_numpy().reshape(-1,1)\n",
    "temp2020_noon_pred = model.predict(pre2020_noon)\n",
    "\n",
    "MSE= mean_squared_error(temp2020_noon, temp2020_noon_pred)\n",
    "R2= r2_score(temp2020_noon, temp2020_noon_pred)\n",
    "\n",
    "print (R2)\n",
    "print (MSE)\n",
    "#draw scatter plot\n",
    "plt.scatter(pre2020_noon, temp2020_noon, s = 2)\n",
    "plt.plot(pre2020_noon, temp2020_noon_pred, color='red', linewidth=2)\n",
    "plt.xlabel(\"Barometric Pressure (mbar) in spring from 2018 to 2020 at Noon\")\n",
    "plt.ylabel(\"Air Temp (°C)\")\n",
    "plt.xticks(rotation=45)"
   ]
  },
  {
   "attachments": {},
   "cell_type": "markdown",
   "id": "b5a2f64d",
   "metadata": {},
   "source": [
    "### Case 3 - Gust Speed and air temp\n"
   ]
  },
  {
   "cell_type": "code",
   "execution_count": 34,
   "id": "b6f063d4",
   "metadata": {},
   "outputs": [
    {
     "name": "stdout",
     "output_type": "stream",
     "text": [
      "0.02355525392947566\n",
      "45.60601028672462\n"
     ]
    },
    {
     "data": {
      "image/png": "[encoded data removed]",
      "text/plain": [
       "<Figure size 640x480 with 1 Axes>"
      ]
     },
     "metadata": {},
     "output_type": "display_data"
    }
   ],
   "source": [
    "# plot linear regression\n",
    "df2015_2017 = pd.concat([df2015,df2016,df2017,df2018])\n",
    "df15_17_noon = df2015_2017[df2015_2017[\"Time\"]== '12:00:00']\n",
    "\n",
    "gSpeed15_19 = df15_17_noon[['Gust Speed (m/s)']]\n",
    "temp15_17_noon = df15_17_noon['Air Temp (°C)']\n",
    "\n",
    "\n",
    "# convert to 2-D array\n",
    "gSpeed15_19 = gSpeed15_19.to_numpy().reshape(-1,1)\n",
    "temp15_17_noon = temp15_17_noon.to_numpy().reshape(-1,1)\n",
    "\n",
    "#make the model\n",
    "model = LinearRegression()\n",
    "model.fit(gSpeed15_19,temp15_17_noon)\n",
    "temp15_17_noon_pred = model.predict(gSpeed15_19)\n",
    "\n",
    "plt.scatter(gSpeed15_19,temp15_17_noon, s=2)\n",
    "plt.plot(gSpeed15_19, temp15_17_noon_pred, color='red', linewidth=2)\n",
    "plt.xlabel(\"Gust Speed (m/s) in spring 2015-2017 at Noon\")\n",
    "plt.ylabel(\"Air Temp (°C)\")\n",
    "\n",
    "MSE= mean_squared_error(temp15_17_noon, temp15_17_noon_pred)\n",
    "R2= r2_score(temp15_17_noon, temp15_17_noon_pred)\n",
    "\n",
    "print (R2)\n",
    "print (MSE)"
   ]
  },
  {
   "cell_type": "code",
   "execution_count": 35,
   "id": "9b0d8f6f",
   "metadata": {},
   "outputs": [
    {
     "name": "stdout",
     "output_type": "stream",
     "text": [
      "-0.0004332664451944801\n",
      "36.92630417522117\n"
     ]
    },
    {
     "data": {
      "text/plain": [
       "(array([ 0.,  2.,  4.,  6.,  8., 10., 12., 14., 16., 18.]),\n",
       " [Text(0.0, 0, '0'),\n",
       "  Text(2.0, 0, '2'),\n",
       "  Text(4.0, 0, '4'),\n",
       "  Text(6.0, 0, '6'),\n",
       "  Text(8.0, 0, '8'),\n",
       "  Text(10.0, 0, '10'),\n",
       "  Text(12.0, 0, '12'),\n",
       "  Text(14.0, 0, '14'),\n",
       "  Text(16.0, 0, '16'),\n",
       "  Text(18.0, 0, '18')])"
      ]
     },
     "execution_count": 35,
     "metadata": {},
     "output_type": "execute_result"
    },
    {
     "data": {
      "image/png": "[encoded data removed]",
      "text/plain": [
       "<Figure size 640x480 with 1 Axes>"
      ]
     },
     "metadata": {},
     "output_type": "display_data"
    }
   ],
   "source": [
    "df20_19 =pd.concat([df2019])\n",
    "df2020_noon = df20_19[df20_19[\"Time\"]== '12:00:00']\n",
    "pre2020_noon = df2020_noon['Gust Speed (m/s)']\n",
    "temp2020_noon = df2020_noon['Air Temp (°C)']\n",
    "\n",
    "pre2020_noon = pre2020_noon.to_numpy().reshape(-1,1)\n",
    "temp2020_noon = temp2020_noon.to_numpy().reshape(-1,1)\n",
    "temp2020_noon_pred = model.predict(pre2020_noon)\n",
    "\n",
    "MSE= mean_squared_error(temp2020_noon, temp2020_noon_pred)\n",
    "R2= r2_score(temp2020_noon, temp2020_noon_pred)\n",
    "\n",
    "print (R2)\n",
    "print (MSE)\n",
    "#draw scatter plot\n",
    "plt.scatter(pre2020_noon, temp2020_noon, s = 2)\n",
    "plt.plot(pre2020_noon, temp2020_noon_pred, color='red', linewidth=2)\n",
    "plt.xlabel(\"Gust Speed (m/s) in spring from 2018 to 2020 at Noon\")\n",
    "plt.ylabel(\"Air Temp (°C)\")\n",
    "plt.xticks(rotation=45)"
   ]
  },
  {
   "attachments": {},
   "cell_type": "markdown",
   "id": "6aad7639",
   "metadata": {},
   "source": [
    "### Case 4 - Barometric Pressure (mbar),Gust Speed (m/s) and Air Temp"
   ]
  },
  {
   "cell_type": "code",
   "execution_count": 36,
   "id": "7a0539ce",
   "metadata": {},
   "outputs": [
    {
     "name": "stdout",
     "output_type": "stream",
     "text": [
      "0.04138642949670557\n",
      "44.773184077544784\n"
     ]
    }
   ],
   "source": [
    "# plot linear regression\n",
    "df2015_2017 = pd.concat([df2015,df2016,df2017,df2018])\n",
    "df15_17_noon = df2015_2017[df2015_2017[\"Time\"]== '12:00:00']\n",
    "\n",
    "pre15_17 = df15_17_noon[['Barometric Pressure (mbar)','Gust Speed (m/s)']]\n",
    "temp15_17_noon = df15_17_noon['Air Temp (°C)']\n",
    "\n",
    "# convert to 2-D array\n",
    "pre15_17 = pre15_17.to_numpy().reshape(-1,2)\n",
    "temp15_17_noon = temp15_17_noon.to_numpy().reshape(-1,1)\n",
    "\n",
    "#make the model\n",
    "model = LinearRegression()\n",
    "model.fit(pre15_17,temp15_17_noon)\n",
    "temp15_19_noon_pred = model.predict(pre15_17)\n",
    "\n",
    "\n",
    "MSE= mean_squared_error(temp15_17_noon, temp15_19_noon_pred)\n",
    "R2= r2_score(temp15_17_noon, temp15_19_noon_pred)\n",
    "\n",
    "print (R2)\n",
    "print (MSE)\n",
    "\n"
   ]
  },
  {
   "cell_type": "code",
   "execution_count": 37,
   "id": "e1feb4f9",
   "metadata": {},
   "outputs": [
    {
     "name": "stdout",
     "output_type": "stream",
     "text": [
      "0.08263131679064939\n",
      "33.86036447726053\n"
     ]
    }
   ],
   "source": [
    "##Plot dates by temps for 2020\n",
    "df20_19 =pd.concat([df2019])\n",
    "df2020_noon = df20_19[df20_19[\"Time\"]== '12:00:00']\n",
    "pre2020_noon = df2020_noon[['Barometric Pressure (mbar)','Gust Speed (m/s)']]\n",
    "temp2020_noon = df2020_noon['Air Temp (°C)']\n",
    "\n",
    "# date2020_noon = pre2020_noon.astype(str)\n",
    "# date2020_noon = date2020_noon.str.split(\"-\").str[-1].astype(int)\n",
    "pre2020_noon = pre2020_noon.to_numpy().reshape(-1,2)\n",
    "temp2020_noon = temp2020_noon.to_numpy().reshape(-1,1)\n",
    "temp2020_noon_pred = model.predict(pre2020_noon)\n",
    "\n",
    "MSE= mean_squared_error(temp2020_noon, temp2020_noon_pred)\n",
    "R2= r2_score(temp2020_noon, temp2020_noon_pred)\n",
    "\n",
    "print (R2)\n",
    "print (MSE)\n",
    "#draw scatter plot\n",
    "# plt.scatter(pre2020_noon, temp2020_noon, s = 2)\n",
    "# plt.xlabel(\"Barometric Pressure (mbar) in spring 2020 at Noon\")\n",
    "# plt.ylabel(\"Air Temp (°C)\")\n",
    "# plt.xticks(rotation=45)\n"
   ]
  },
  {
   "attachments": {},
   "cell_type": "markdown",
   "id": "466a7743",
   "metadata": {},
   "source": [
    "### Case 5 - Wind Speed (m/s)"
   ]
  },
  {
   "cell_type": "code",
   "execution_count": 48,
   "id": "4aff4716",
   "metadata": {},
   "outputs": [
    {
     "name": "stdout",
     "output_type": "stream",
     "text": [
      "0.03018849670796031\n",
      "45.29619681329736\n"
     ]
    },
    {
     "data": {
      "image/png": "[encoded data removed]",
      "text/plain": [
       "<Figure size 640x480 with 1 Axes>"
      ]
     },
     "metadata": {},
     "output_type": "display_data"
    }
   ],
   "source": [
    "# plot linear regression\n",
    "df2015_2017 = pd.concat([df2015,df2016,df2017,df2018])\n",
    "df15_17_noon = df2015_2017[df2015_2017[\"Time\"]== '12:00:00']\n",
    "\n",
    "gSpeed15_19 = df15_17_noon[['Wind Speed (m/s)']]\n",
    "temp15_17_noon = df15_17_noon['Air Temp (°C)']\n",
    "\n",
    "\n",
    "# convert to 2-D array\n",
    "gSpeed15_19 = gSpeed15_19.to_numpy().reshape(-1,1)\n",
    "temp15_17_noon = temp15_17_noon.to_numpy().reshape(-1,1)\n",
    "\n",
    "#make the model\n",
    "model = LinearRegression()\n",
    "model.fit(gSpeed15_19,temp15_17_noon)\n",
    "temp15_17_noon_pred = model.predict(gSpeed15_19)\n",
    "\n",
    "plt.scatter(gSpeed15_19,temp15_17_noon, s=2)\n",
    "plt.plot(gSpeed15_19, temp15_17_noon_pred, color='red', linewidth=2)\n",
    "plt.xlabel(\"Gust Speed (m/s) in spring 2015-2017 at Noon\")\n",
    "plt.ylabel(\"Air Temp (°C)\")\n",
    "\n",
    "MSE= mean_squared_error(temp15_17_noon, temp15_17_noon_pred)\n",
    "R2= r2_score(temp15_17_noon, temp15_17_noon_pred)\n",
    "\n",
    "print (R2)\n",
    "print (MSE)"
   ]
  },
  {
   "cell_type": "code",
   "execution_count": 49,
   "id": "f3ec182d",
   "metadata": {},
   "outputs": [
    {
     "name": "stdout",
     "output_type": "stream",
     "text": [
      "-0.024069855783821037\n",
      "37.798738066473355\n"
     ]
    },
    {
     "data": {
      "text/plain": [
       "(array([-2.,  0.,  2.,  4.,  6.,  8., 10.]),\n",
       " [Text(-2.0, 0, '−2'),\n",
       "  Text(0.0, 0, '0'),\n",
       "  Text(2.0, 0, '2'),\n",
       "  Text(4.0, 0, '4'),\n",
       "  Text(6.0, 0, '6'),\n",
       "  Text(8.0, 0, '8'),\n",
       "  Text(10.0, 0, '10')])"
      ]
     },
     "execution_count": 49,
     "metadata": {},
     "output_type": "execute_result"
    },
    {
     "data": {
      "image/png": "[encoded data removed]",
      "text/plain": [
       "<Figure size 640x480 with 1 Axes>"
      ]
     },
     "metadata": {},
     "output_type": "display_data"
    }
   ],
   "source": [
    "df20_19 =pd.concat([df2019])\n",
    "df2020_noon = df20_19[df20_19[\"Time\"]== '12:00:00']\n",
    "pre2020_noon = df2020_noon['Wind Speed (m/s)']\n",
    "temp2020_noon = df2020_noon['Air Temp (°C)']\n",
    "\n",
    "pre2020_noon = pre2020_noon.to_numpy().reshape(-1,1)\n",
    "temp2020_noon = temp2020_noon.to_numpy().reshape(-1,1)\n",
    "temp2020_noon_pred = model.predict(pre2020_noon)\n",
    "\n",
    "MSE= mean_squared_error(temp2020_noon, temp2020_noon_pred)\n",
    "R2= r2_score(temp2020_noon, temp2020_noon_pred)\n",
    "\n",
    "print (R2)\n",
    "print (MSE)\n",
    "#draw scatter plot\n",
    "plt.scatter(pre2020_noon, temp2020_noon, s = 2)\n",
    "plt.plot(pre2020_noon, temp2020_noon_pred, color='red', linewidth=2)\n",
    "plt.xlabel(\"Gust Speed (m/s) in spring from 2018 to 2020 at Noon\")\n",
    "plt.ylabel(\"Air Temp (°C)\")\n",
    "plt.xticks(rotation=45)"
   ]
  },
  {
   "attachments": {},
   "cell_type": "markdown",
   "id": "77558263",
   "metadata": {},
   "source": [
    "### Case 7 - 'Wind Speed (m/s)','Barometric Pressure (mbar)'"
   ]
  },
  {
   "cell_type": "code",
   "execution_count": 50,
   "id": "4d3d4b02",
   "metadata": {},
   "outputs": [
    {
     "name": "stdout",
     "output_type": "stream",
     "text": [
      "0.049440007280618925\n",
      "44.39703217265087\n"
     ]
    }
   ],
   "source": [
    "# plot linear regression\n",
    "df2015_2017 = pd.concat([df2015,df2016,df2017,df2018])\n",
    "df15_17_noon = df2015_2017[df2015_2017[\"Time\"]== '12:00:00']\n",
    "\n",
    "pre15_17 = df15_17_noon[['Barometric Pressure (mbar)','Wind Speed (m/s)']]\n",
    "temp15_17_noon = df15_17_noon['Air Temp (°C)']\n",
    "\n",
    "# convert to 2-D array\n",
    "pre15_17 = pre15_17.to_numpy().reshape(-1,2)\n",
    "temp15_17_noon = temp15_17_noon.to_numpy().reshape(-1,1)\n",
    "\n",
    "#make the model\n",
    "model = LinearRegression()\n",
    "model.fit(pre15_17,temp15_17_noon)\n",
    "temp15_19_noon_pred = model.predict(pre15_17)\n",
    "\n",
    "\n",
    "MSE= mean_squared_error(temp15_17_noon, temp15_19_noon_pred)\n",
    "R2= r2_score(temp15_17_noon, temp15_19_noon_pred)\n",
    "\n",
    "print (R2)\n",
    "print (MSE)\n"
   ]
  },
  {
   "cell_type": "code",
   "execution_count": 51,
   "id": "ac06f254",
   "metadata": {},
   "outputs": [
    {
     "name": "stdout",
     "output_type": "stream",
     "text": [
      "0.0581483126607617\n",
      "34.76403980268811\n"
     ]
    }
   ],
   "source": [
    "##Plot dates by temps for 2020\n",
    "df20_19 =pd.concat([df2019])\n",
    "df2020_noon = df20_19[df20_19[\"Time\"]== '12:00:00']\n",
    "pre2020_noon = df2020_noon[['Barometric Pressure (mbar)','Wind Speed (m/s)']]\n",
    "temp2020_noon = df2020_noon['Air Temp (°C)']\n",
    "\n",
    "# date2020_noon = pre2020_noon.astype(str)\n",
    "# date2020_noon = date2020_noon.str.split(\"-\").str[-1].astype(int)\n",
    "pre2020_noon = pre2020_noon.to_numpy().reshape(-1,2)\n",
    "temp2020_noon = temp2020_noon.to_numpy().reshape(-1,1)\n",
    "temp2020_noon_pred = model.predict(pre2020_noon)\n",
    "\n",
    "MSE= mean_squared_error(temp2020_noon, temp2020_noon_pred)\n",
    "R2= r2_score(temp2020_noon, temp2020_noon_pred)\n",
    "\n",
    "print (R2)\n",
    "print (MSE)"
   ]
  },
  {
   "attachments": {},
   "cell_type": "markdown",
   "id": "a1b4d71a",
   "metadata": {},
   "source": [
    "### Case 8\n",
    "##### x: 'Barometric Pressure (mbar)','Gust Speed (m/s)','Wind Speed (m/s)'\\n\n",
    "##### y: 'Air Temp (°C)'"
   ]
  },
  {
   "cell_type": "code",
   "execution_count": 53,
   "id": "4280fdf9",
   "metadata": {},
   "outputs": [
    {
     "name": "stdout",
     "output_type": "stream",
     "text": [
      "0.050635415008539075\n",
      "44.34119923652647\n"
     ]
    }
   ],
   "source": [
    "# plot linear regression\n",
    "df2015_2017 = pd.concat([df2015,df2016,df2017,df2018])\n",
    "df15_17_noon = df2015_2017[df2015_2017[\"Time\"]== '12:00:00']\n",
    "\n",
    "pre15_17 = df15_17_noon[['Barometric Pressure (mbar)','Gust Speed (m/s)','Wind Speed (m/s)']]\n",
    "temp15_17_noon = df15_17_noon['Air Temp (°C)']\n",
    "\n",
    "# convert to 2-D array\n",
    "pre15_17 = pre15_17.to_numpy().reshape(-1,3)\n",
    "temp15_17_noon = temp15_17_noon.to_numpy().reshape(-1,1)\n",
    "\n",
    "#make the model\n",
    "model = LinearRegression()\n",
    "model.fit(pre15_17,temp15_17_noon)\n",
    "temp15_19_noon_pred = model.predict(pre15_17)\n",
    "\n",
    "\n",
    "MSE= mean_squared_error(temp15_17_noon, temp15_19_noon_pred)\n",
    "R2= r2_score(temp15_17_noon, temp15_19_noon_pred)\n",
    "\n",
    "print (R2)\n",
    "print (MSE)\n"
   ]
  },
  {
   "cell_type": "code",
   "execution_count": 54,
   "id": "d8809f44",
   "metadata": {},
   "outputs": [
    {
     "name": "stdout",
     "output_type": "stream",
     "text": [
      "0.042269285501597365\n",
      "35.35013965217569\n"
     ]
    }
   ],
   "source": [
    "##Plot dates by temps for 2020\n",
    "df20_19 =pd.concat([df2019])\n",
    "df2020_noon = df20_19[df20_19[\"Time\"]== '12:00:00']\n",
    "pre2020_noon = df2020_noon[['Barometric Pressure (mbar)','Gust Speed (m/s)','Wind Speed (m/s)']]\n",
    "temp2020_noon = df2020_noon['Air Temp (°C)']\n",
    "\n",
    "# date2020_noon = pre2020_noon.astype(str)\n",
    "# date2020_noon = date2020_noon.str.split(\"-\").str[-1].astype(int)\n",
    "pre2020_noon = pre2020_noon.to_numpy().reshape(-1,3)\n",
    "temp2020_noon = temp2020_noon.to_numpy().reshape(-1,1)\n",
    "temp2020_noon_pred = model.predict(pre2020_noon)\n",
    "\n",
    "MSE= mean_squared_error(temp2020_noon, temp2020_noon_pred)\n",
    "R2= r2_score(temp2020_noon, temp2020_noon_pred)\n",
    "\n",
    "print (R2)\n",
    "print (MSE)"
   ]
  },
  {
   "attachments": {},
   "cell_type": "markdown",
   "id": "41687799",
   "metadata": {},
   "source": [
    "### Case 6\n",
    "##### x: 'RH (%)'\n",
    "##### y: 'Air Temp (°C)'"
   ]
  },
  {
   "cell_type": "code",
   "execution_count": 52,
   "id": "85be507d",
   "metadata": {},
   "outputs": [
    {
     "name": "stdout",
     "output_type": "stream",
     "text": [
      "0.00014495424339910912\n",
      "46.69941610676209\n"
     ]
    }
   ],
   "source": [
    "# plot linear regression\n",
    "df2015_2017 = pd.concat([df2015,df2016,df2017,df2018])\n",
    "df15_17_noon = df2015_2017[df2015_2017[\"Time\"]== '12:00:00']\n",
    "\n",
    "pre15_17 = df15_17_noon['RH (%)']\n",
    "temp15_17_noon = df15_17_noon['Air Temp (°C)']\n",
    "\n",
    "# convert to 2-D array\n",
    "pre15_17 = pre15_17.to_numpy().reshape(-1,1)\n",
    "temp15_17_noon = temp15_17_noon.to_numpy().reshape(-1,1)\n",
    "\n",
    "#make the model\n",
    "model = LinearRegression()\n",
    "model.fit(pre15_17,temp15_17_noon)\n",
    "temp15_19_noon_pred = model.predict(pre15_17)\n",
    "\n",
    "\n",
    "MSE= mean_squared_error(temp15_17_noon, temp15_19_noon_pred)\n",
    "R2= r2_score(temp15_17_noon, temp15_19_noon_pred)\n",
    "\n",
    "print (R2)\n",
    "print (MSE)\n"
   ]
  },
  {
   "cell_type": "code",
   "execution_count": 45,
   "id": "f6ff2ff9",
   "metadata": {},
   "outputs": [
    {
     "name": "stdout",
     "output_type": "stream",
     "text": [
      "-0.0171928208008143\n",
      "37.54490455840892\n"
     ]
    },
    {
     "data": {
      "text/plain": [
       "(array([ 20.,  30.,  40.,  50.,  60.,  70.,  80.,  90., 100.]),\n",
       " [Text(20.0, 0, '20'),\n",
       "  Text(30.0, 0, '30'),\n",
       "  Text(40.0, 0, '40'),\n",
       "  Text(50.0, 0, '50'),\n",
       "  Text(60.0, 0, '60'),\n",
       "  Text(70.0, 0, '70'),\n",
       "  Text(80.0, 0, '80'),\n",
       "  Text(90.0, 0, '90'),\n",
       "  Text(100.0, 0, '100')])"
      ]
     },
     "execution_count": 45,
     "metadata": {},
     "output_type": "execute_result"
    },
    {
     "data": {
      "image/png": "[encoded data removed]",
      "text/plain": [
       "<Figure size 640x480 with 1 Axes>"
      ]
     },
     "metadata": {},
     "output_type": "display_data"
    }
   ],
   "source": [
    "##Plot dates by temps for 2020\n",
    "df20_19 =pd.concat([df2019])\n",
    "df2020_noon = df20_19[df20_19[\"Time\"]== '12:00:00']\n",
    "pre2020_noon = df2020_noon['RH (%)']\n",
    "temp2020_noon = df2020_noon['Air Temp (°C)']\n",
    "\n",
    "# date2020_noon = pre2020_noon.astype(str)\n",
    "# date2020_noon = date2020_noon.str.split(\"-\").str[-1].astype(int)\n",
    "pre2020_noon = pre2020_noon.to_numpy().reshape(-1,1)\n",
    "temp2020_noon = temp2020_noon.to_numpy().reshape(-1,1)\n",
    "temp2020_noon_pred = model.predict(pre2020_noon)\n",
    "\n",
    "MSE= mean_squared_error(temp2020_noon, temp2020_noon_pred)\n",
    "R2= r2_score(temp2020_noon, temp2020_noon_pred)\n",
    "\n",
    "print (R2)\n",
    "print (MSE)\n",
    "\n",
    "plt.scatter(pre2020_noon, temp2020_noon, s = 2)\n",
    "plt.plot(pre2020_noon, temp2020_noon_pred, color='red', linewidth=2)\n",
    "plt.xlabel(\"Dates in spring from 2018 to 2020 at Noon\")\n",
    "plt.ylabel(\"Air Temp (°C)\")\n",
    "plt.xlabel(\"Dates in March 2020 at Noon\")\n",
    "plt.ylabel(\"Air Temp (°C)\")\n",
    "plt.xticks(rotation=45)"
   ]
  },
  {
   "attachments": {},
   "cell_type": "markdown",
   "id": "3dd5ae62",
   "metadata": {},
   "source": [
    "### Case 7 -Dew Point (°C)"
   ]
  },
  {
   "cell_type": "code",
   "execution_count": 46,
   "id": "0af7879f",
   "metadata": {},
   "outputs": [
    {
     "name": "stdout",
     "output_type": "stream",
     "text": [
      "0.5974434111352676\n",
      "18.801883062646713\n"
     ]
    },
    {
     "data": {
      "text/plain": [
       "[<matplotlib.lines.Line2D at 0x7facf6eed4f0>]"
      ]
     },
     "execution_count": 46,
     "metadata": {},
     "output_type": "execute_result"
    },
    {
     "data": {
      "image/png": "[encoded data removed]",
      "text/plain": [
       "<Figure size 640x480 with 1 Axes>"
      ]
     },
     "metadata": {},
     "output_type": "display_data"
    }
   ],
   "source": [
    "# plot linear regression\n",
    "df2015_2017 = pd.concat([df2015,df2016,df2017,df2018])\n",
    "df15_17_noon = df2015_2017[df2015_2017[\"Time\"]== '12:00:00']\n",
    "\n",
    "dp15_17 = df15_17_noon['Dew Point (°C)']\n",
    "temp15_17_noon = df15_17_noon['Air Temp (°C)']\n",
    "\n",
    "# convert to 2-D array\n",
    "dp15_17 = dp15_17.to_numpy().reshape(-1,1)\n",
    "temp15_17_noon = temp15_17_noon.to_numpy().reshape(-1,1)\n",
    "\n",
    "#make the model\n",
    "model = LinearRegression()\n",
    "model.fit(dp15_17,temp15_17_noon)\n",
    "temp15_19_noon_pred = model.predict(dp15_17)\n",
    "\n",
    "\n",
    "MSE= mean_squared_error(temp15_17_noon, temp15_19_noon_pred)\n",
    "R2= r2_score(temp15_17_noon, temp15_19_noon_pred)\n",
    "\n",
    "print (R2)\n",
    "print (MSE)\n",
    "\n",
    "plt.scatter(dp15_17, temp15_17_noon, s = 2)\n",
    "plt.plot(dp15_17, temp15_19_noon_pred, color='red', linewidth=2)"
   ]
  },
  {
   "cell_type": "code",
   "execution_count": 47,
   "id": "c0e7ed66",
   "metadata": {},
   "outputs": [
    {
     "name": "stdout",
     "output_type": "stream",
     "text": [
      "0.7067541632953123\n",
      "10.82379537692806\n"
     ]
    },
    {
     "data": {
      "text/plain": [
       "(array([-25., -20., -15., -10.,  -5.,   0.,   5.,  10.,  15.,  20.]),\n",
       " [Text(-25.0, 0, '−25'),\n",
       "  Text(-20.0, 0, '−20'),\n",
       "  Text(-15.0, 0, '−15'),\n",
       "  Text(-10.0, 0, '−10'),\n",
       "  Text(-5.0, 0, '−5'),\n",
       "  Text(0.0, 0, '0'),\n",
       "  Text(5.0, 0, '5'),\n",
       "  Text(10.0, 0, '10'),\n",
       "  Text(15.0, 0, '15'),\n",
       "  Text(20.0, 0, '20')])"
      ]
     },
     "execution_count": 47,
     "metadata": {},
     "output_type": "execute_result"
    },
    {
     "data": {
      "image/png": "[encoded data removed]",
      "text/plain": [
       "<Figure size 640x480 with 1 Axes>"
      ]
     },
     "metadata": {},
     "output_type": "display_data"
    }
   ],
   "source": [
    "##Plot dates by temps for 2020\n",
    "df20_19 =pd.concat([df2019])\n",
    "df2020_noon = df20_19[df20_19[\"Time\"]== '12:00:00']\n",
    "dp2020_noon = df2020_noon['Dew Point (°C)']\n",
    "temp2020_noon = df2020_noon['Air Temp (°C)']\n",
    "\n",
    "# date2020_noon = pre2020_noon.astype(str)\n",
    "# date2020_noon = date2020_noon.str.split(\"-\").str[-1].astype(int)\n",
    "dp2020_noon = dp2020_noon.to_numpy().reshape(-1,1)\n",
    "temp2020_noon = temp2020_noon.to_numpy().reshape(-1,1)\n",
    "temp2020_noon_pred = model.predict(dp2020_noon)\n",
    "\n",
    "MSE= mean_squared_error(temp2020_noon, temp2020_noon_pred)\n",
    "R2= r2_score(temp2020_noon, temp2020_noon_pred)\n",
    "\n",
    "print (R2)\n",
    "print (MSE)\n",
    "\n",
    "plt.scatter(dp2020_noon, temp2020_noon, s = 2)\n",
    "plt.plot(dp2020_noon, temp2020_noon_pred, color='red', linewidth=2)\n",
    "plt.xlabel(\"Dates in spring from 2018 to 2020 at Noon\")\n",
    "plt.ylabel(\"Air Temp (°C)\")\n",
    "plt.xlabel(\"Dates in March 2020 at Noon\")\n",
    "plt.ylabel(\"Air Temp (°C)\")\n",
    "plt.xticks(rotation=45)"
   ]
  }
 ],
 "metadata": {
  "kernelspec": {
   "display_name": "Python 3 (ipykernel)",
   "language": "python",
   "name": "python3"
  },
  "language_info": {
   "codemirror_mode": {
    "name": "ipython",
    "version": 3
   },
   "file_extension": ".py",
   "mimetype": "text/x-python",
   "name": "python",
   "nbconvert_exporter": "python",
   "pygments_lexer": "ipython3",
   "version": "3.9.16"
  }
 },
 "nbformat": 4,
 "nbformat_minor": 5
}
